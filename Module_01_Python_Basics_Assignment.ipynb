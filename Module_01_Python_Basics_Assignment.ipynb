{
  "nbformat": 4,
  "nbformat_minor": 0,
  "metadata": {
    "colab": {
      "provenance": []
    },
    "kernelspec": {
      "name": "python3",
      "display_name": "Python 3"
    },
    "language_info": {
      "name": "python"
    }
  },
  "cells": [
    {
      "cell_type": "markdown",
      "source": [],
      "metadata": {
        "id": "909sKzk4imJh"
      }
    },
    {
      "cell_type": "markdown",
      "source": [
        "1.\tWhat is Python, and why is it popular?\n",
        "    - Python is a programming language that is easy to understand and write, making it a popular choice among developers and programmers.\n",
        "It is popular for mainly Ease of Learning, Versatility, Large Ecosystem, Community Support.\n",
        "\n",
        "2. What is an interpreter in Python?\n",
        "  - An interpreter is a program that directly executes the Python code, line by line, without compiling it into machine code first.\n",
        "\n",
        "3. What are pre-defined keywords in Python?\n",
        "  - Pre-defined keywords in Python are reserved words that have special meaning and serve a specific purpose in the language's syntax. These keywords cannot be used as identifiers (such as variable or function names) because they are integral to the structure of Python programs.\n",
        "  \n",
        "  Examples of keywords include if, else, while, for, def, class, import, try, except, return, True, False, None\n",
        "4. Can keywords be used as variable names?\n",
        "  - No, keywords in Python cannot be used as variable names.\n",
        "\n",
        "5. What is mutability in Python?\n",
        "  - Mutability in Python refers to whether the state or value of an object can be changed after it is created.\n",
        "  Mutable objects are those whose content can be modified after creation. Examples of mutable types in Python include: Lists,Dictionaries.\n",
        "6. Why are lists mutable, but tuples are immutable?\n",
        "  - Lists are mutable to offer flexibility, meaning their contents can be changed after they are created.\n",
        "  - Tuples, on the other hand, are immutable. Once a tuple is created, its contents cannot be altered.\n",
        "\n",
        "7. What is the difference between “==” and “is” operators in Python?\n",
        "  - Use \"==\" when we want to check if two objects hold equivalent data.\n",
        "  - Use \"is\" when we need to confirm that two references point to the same object in memory.\n",
        "8. What are logical operators in Python?\n",
        "  - Python provides three primary logical operators that are essential for combining conditional statements and creating complex Boolean expressions. These operators are \"and\", \"or\", and \"not\".\n",
        "9. What is type casting in Python?\n",
        "  - The process of converting a variable from one data type to another. This is essential for performing operations that require specific data types. Python supports two main types of type casting: Implicit and Explicit.\n",
        "\n",
        "10. What is the difference between implicit and explicit type casting?\n",
        "  - Implicit type casting occurs automatically by Python when it needs to make the data types compatible.\n",
        "  - While Explicit type casting requires to manually convert one data type into another using specific functions.\n",
        "11. What is the purpose of conditional statements in Python?\n",
        "  - The purpose of conditional statements in Python is to enable the program to make decisions and choose different paths based on conditions. By using \"if\", \"elif\", and \"else\", we can control the flow of execution, which is essential for writing dynamic and responsive programs.\n",
        "12. How does the elif statement work?\n",
        "  - The elif statement is used to check multiple conditions in sequence, providing an alternative to a simple \"if-else\" structure by allowing more than two choices. It's helpful for making decisions with multiple outcomes based on different conditions.\n",
        "13. What is the difference between for and while loops?\n",
        "  - “for” loops are used for iterating over a sequence of elements,\n",
        "  - while “while” loops are used for executing code until a specified condition becomes False.\n",
        "14. Describe a scenario where a while loop is more suitable than a for loop.\n",
        "  - Suppose you are implementing a program where a user is repeatedly asked to enter a password until they enter the correct one.\n",
        "    \"While loop\" continues to execute as long as the condition is True.\n",
        "    \"for loop\" is typically used when the number of iterations is predetermined or when iterating over a sequence like a list, range, or string. In this case, you cannot predetermine how many times the loop will run.\n",
        "This makes the while loop a natural choice for this scenario.\n",
        "\n",
        "\n",
        "\n",
        "\n",
        "\n",
        "\n",
        "\n",
        "\n",
        "\n",
        "\n",
        "\n",
        "\n",
        "\n",
        "\n",
        "\n",
        "\n"
      ],
      "metadata": {
        "id": "ilAv9BHU3Vlm"
      }
    },
    {
      "cell_type": "code",
      "source": [
        "#1. Write a Python program to print \"Hello, World!_\n",
        "print(\"Hello, World!\")"
      ],
      "metadata": {
        "colab": {
          "base_uri": "https://localhost:8080/"
        },
        "id": "RsMJ0qOX31My",
        "outputId": "2fdd4d21-bbbb-448f-810d-d132046a03b0"
      },
      "execution_count": 1,
      "outputs": [
        {
          "output_type": "stream",
          "name": "stdout",
          "text": [
            "Hello, World!\n"
          ]
        }
      ]
    },
    {
      "cell_type": "code",
      "source": [
        "#2. Write a Python program that displays your name and age.\n",
        "name = input(\"Enter your name: \")\n",
        "age = input(\"Enter your age: \")\n",
        "print(\"Name:\", name)\n",
        "print(\"Age:\", age)\n",
        "\n"
      ],
      "metadata": {
        "colab": {
          "base_uri": "https://localhost:8080/"
        },
        "id": "geXNjuo_4KPt",
        "outputId": "b746fab5-7971-4d90-a023-422c59fce925"
      },
      "execution_count": 2,
      "outputs": [
        {
          "output_type": "stream",
          "name": "stdout",
          "text": [
            "Enter your name: Akash\n",
            "Enter your age: 24\n",
            "Name: Akash\n",
            "Age: 24\n"
          ]
        }
      ]
    },
    {
      "cell_type": "code",
      "source": [
        "#3. Write code to print all the pre-defined keywords in Python using the keyword library.\n",
        "import keyword\n",
        "\n",
        "print(\"The list of Python keywords is:\")\n",
        "print(keyword.kwlist)"
      ],
      "metadata": {
        "colab": {
          "base_uri": "https://localhost:8080/"
        },
        "id": "6AO36xoJ4vd4",
        "outputId": "aa116111-5eb9-4f62-c383-dbaa5d6fe643"
      },
      "execution_count": 4,
      "outputs": [
        {
          "output_type": "stream",
          "name": "stdout",
          "text": [
            "The list of Python keywords is:\n",
            "['False', 'None', 'True', 'and', 'as', 'assert', 'async', 'await', 'break', 'class', 'continue', 'def', 'del', 'elif', 'else', 'except', 'finally', 'for', 'from', 'global', 'if', 'import', 'in', 'is', 'lambda', 'nonlocal', 'not', 'or', 'pass', 'raise', 'return', 'try', 'while', 'with', 'yield']\n"
          ]
        }
      ]
    },
    {
      "cell_type": "code",
      "source": [
        "#4.  Write a program that checks if a given word is a Python keyword.\n",
        "import keyword\n",
        "\n",
        "word = input(\"Enter a word: \")\n",
        "\n",
        "if keyword.iskeyword(word):\n",
        "    print(f\"'{word}' is a Python keyword.\")\n",
        "else:\n",
        "    print(f\"'{word}' is not a Python keyword.\")\n"
      ],
      "metadata": {
        "colab": {
          "base_uri": "https://localhost:8080/"
        },
        "id": "iiKMf8tf5LYL",
        "outputId": "59051004-aa96-4b99-ef6d-6a41697e94f1"
      },
      "execution_count": 5,
      "outputs": [
        {
          "output_type": "stream",
          "name": "stdout",
          "text": [
            "Enter a word: ashad\n",
            "'ashad' is not a Python keyword.\n"
          ]
        }
      ]
    },
    {
      "cell_type": "code",
      "source": [
        "#5. Create a list and tuple in Python, and demonstrate how attempting to change an element works differently\n",
        "# Create a list\n",
        "my_list = [1, 2, 3, 4, 5]\n",
        "print(\"Original List:\", my_list)\n",
        "\n",
        "# Create a tuple\n",
        "my_tuple = (1, 2, 3, 4, 5)\n",
        "print(\"Original Tuple:\", my_tuple)\n",
        "\n",
        "# Attempt to change an element in the list\n",
        "my_list[2] = 10\n",
        "print(\"List after modification:\", my_list)\n",
        "\n",
        "# Attempt to change an element in the tuple\n",
        "try:\n",
        "    my_tuple[2] = 10\n",
        "except TypeError as e:\n",
        "    print(\"Error:\", e)\n",
        "print(\"Tuple after attempted modification:\", my_tuple)\n"
      ],
      "metadata": {
        "colab": {
          "base_uri": "https://localhost:8080/"
        },
        "id": "O-V7TOHl5bYS",
        "outputId": "8b9684fb-e790-4de9-eb3a-166478f7ec2f"
      },
      "execution_count": 10,
      "outputs": [
        {
          "output_type": "stream",
          "name": "stdout",
          "text": [
            "Original List: [1, 2, 3, 4, 5]\n",
            "Original Tuple: (1, 2, 3, 4, 5)\n",
            "List after modification: [1, 2, 10, 4, 5]\n",
            "Error: 'tuple' object does not support item assignment\n",
            "Tuple after attempted modification: (1, 2, 3, 4, 5)\n"
          ]
        }
      ]
    },
    {
      "cell_type": "code",
      "source": [
        "#6 & 7(Both). Write a function to demonstrate the behavior of mutable and immutable arguments\n",
        "# Function to modify arguments\n",
        "def modify_arguments(immutable_arg, mutable_arg):\n",
        "    # Attempt to modify the immutable argument (integer)\n",
        "    immutable_arg += 10\n",
        "    print(\"Inside function - immutable_arg:\", immutable_arg)\n",
        "\n",
        "    # Modify the mutable argument (list)\n",
        "    mutable_arg.append(100)\n",
        "    print(\"Inside function - mutable_arg:\", mutable_arg)\n",
        "\n",
        "# Define immutable and mutable arguments\n",
        "immutable_value = 20  # Integer (immutable)\n",
        "mutable_list = [1, 2, 3]  # List (mutable)\n",
        "\n",
        "# Call the function\n",
        "print(\"Before function call:\")\n",
        "print(\"immutable_value:\", immutable_value)\n",
        "print(\"mutable_list:\", mutable_list)\n",
        "\n",
        "modify_arguments(immutable_value, mutable_list)\n",
        "\n",
        "# Check the values after function call\n",
        "print(\"\\nAfter function call:\")\n",
        "print(\"immutable_value:\", immutable_value)  # Unchanged\n",
        "print(\"mutable_list:\", mutable_list)\n"
      ],
      "metadata": {
        "colab": {
          "base_uri": "https://localhost:8080/"
        },
        "id": "_q1cfuPk6msx",
        "outputId": "1d4050dd-33b1-4e62-f59d-b75e430f7246"
      },
      "execution_count": 13,
      "outputs": [
        {
          "output_type": "stream",
          "name": "stdout",
          "text": [
            "Before function call:\n",
            "immutable_value: 20\n",
            "mutable_list: [1, 2, 3]\n",
            "Inside function - immutable_arg: 30\n",
            "Inside function - mutable_arg: [1, 2, 3, 100]\n",
            "\n",
            "After function call:\n",
            "immutable_value: 20\n",
            "mutable_list: [1, 2, 3, 100]\n"
          ]
        }
      ]
    },
    {
      "cell_type": "code",
      "source": [
        "#8. Write a program to demonstrate the use of logical operators.\n",
        "x = 10\n",
        "y = 20\n",
        "z = 30\n",
        "\n",
        "# Logical AND\n",
        "print(\"Logical AND:\")\n",
        "print(f\"x > 5 and y > 15: {x > 5 and y > 15}\")  # True and True -> True\n",
        "print(f\"x > 15 and z > 25: {x > 15 and z > 25}\")  # False and True -> False\n",
        "\n",
        "# Logical OR\n",
        "print(\"\\nLogical OR:\")\n",
        "print(f\"x > 15 or y > 15: {x > 15 or y > 15}\")  # False or True -> True\n",
        "print(f\"x > 15 or z < 25: {x > 15 or z < 25}\")  # False or False -> False\n",
        "\n",
        "# Logical NOT\n",
        "print(\"\\nLogical NOT:\")\n",
        "print(f\"not (x > 5): {not (x > 5)}\")  # not True -> False\n",
        "print(f\"not (z < 25): {not (z < 25)}\")  # not False -> True"
      ],
      "metadata": {
        "colab": {
          "base_uri": "https://localhost:8080/"
        },
        "id": "VoazXdNH7GGm",
        "outputId": "2ed62b37-f98b-451f-fecc-6f9f823d6dbd"
      },
      "execution_count": 14,
      "outputs": [
        {
          "output_type": "stream",
          "name": "stdout",
          "text": [
            "Logical AND:\n",
            "x > 5 and y > 15: True\n",
            "x > 15 and z > 25: False\n",
            "\n",
            "Logical OR:\n",
            "x > 15 or y > 15: True\n",
            "x > 15 or z < 25: False\n",
            "\n",
            "Logical NOT:\n",
            "not (x > 5): False\n",
            "not (z < 25): True\n"
          ]
        }
      ]
    },
    {
      "cell_type": "code",
      "source": [
        "#9.  Write a Python program to convert user input from string to integer, float, and boolean types\n",
        "# Get user input as a string\n",
        "user_input = input(\"Enter a value: \")\n",
        "\n",
        "# Convert to integer\n",
        "try:\n",
        "    int_value = int(user_input)\n",
        "    print(\"Converted to integer:\", int_value)\n",
        "except ValueError:\n",
        "    print(\"Cannot convert to integer.\")\n",
        "\n",
        "# Convert to float\n",
        "try:\n",
        "    float_value = float(user_input)\n",
        "    print(\"Converted to float:\", float_value)\n",
        "except ValueError:\n",
        "    print(\"Cannot convert to float.\")\n",
        "\n",
        "# Convert to boolean\n",
        "# Any non-empty string other than \"0\" will convert to True; \"0\" and empty strings convert to False\n",
        "bool_value = bool(user_input) and user_input != \"0\"\n",
        "print(\"Converted to boolean:\", bool_value)\n"
      ],
      "metadata": {
        "colab": {
          "base_uri": "https://localhost:8080/"
        },
        "id": "HkTEmeMZ7qK2",
        "outputId": "c50937e1-aa53-4296-e8a2-5862c87be58c"
      },
      "execution_count": 17,
      "outputs": [
        {
          "output_type": "stream",
          "name": "stdout",
          "text": [
            "Enter a value: ak\n",
            "Cannot convert to integer.\n",
            "Cannot convert to float.\n",
            "Converted to boolean: True\n"
          ]
        }
      ]
    },
    {
      "cell_type": "code",
      "source": [
        "#10. Write code to demonstrate type casting with list elements\n",
        "# Original list with mixed data types\n",
        "mixed_list = [\"10\", \"20\", \"30.5\", \"40\", \"50.0\"]\n",
        "\n",
        "# Display original list\n",
        "print(\"Original list:\", mixed_list)\n",
        "\n",
        "# Type casting: Convert string elements to integers and floats\n",
        "int_list = [int(float(num)) for num in mixed_list]  # Convert to integers\n",
        "float_list = [float(num) for num in mixed_list]      # Convert to floats\n",
        "\n",
        "# Display the results\n",
        "print(\"List after converting to integers:\", int_list)\n",
        "print(\"List after converting to floats:\", float_list)\n",
        "\n",
        "# Type casting: Convert back to strings\n",
        "string_list_from_ints = [str(num) for num in int_list]\n",
        "string_list_from_floats = [str(num) for num in float_list]\n",
        "\n",
        "# Display the string conversion results\n",
        "print(\"List after converting integers back to strings:\", string_list_from_ints)\n",
        "print(\"List after converting floats back to strings:\", string_list_from_floats)"
      ],
      "metadata": {
        "colab": {
          "base_uri": "https://localhost:8080/"
        },
        "id": "L4R6uQxR8N6l",
        "outputId": "c19ca5d3-c7b4-490e-b3a8-75f26d214469"
      },
      "execution_count": 18,
      "outputs": [
        {
          "output_type": "stream",
          "name": "stdout",
          "text": [
            "Original list: ['10', '20', '30.5', '40', '50.0']\n",
            "List after converting to integers: [10, 20, 30, 40, 50]\n",
            "List after converting to floats: [10.0, 20.0, 30.5, 40.0, 50.0]\n",
            "List after converting integers back to strings: ['10', '20', '30', '40', '50']\n",
            "List after converting floats back to strings: ['10.0', '20.0', '30.5', '40.0', '50.0']\n"
          ]
        }
      ]
    },
    {
      "cell_type": "code",
      "source": [
        "#11.  Write a program that checks if a number is positive, negative, or zero.\n",
        "# Get user input\n",
        "number = float(input(\"Enter a number: \"))\n",
        "\n",
        "# Check the number and display the result\n",
        "if number > 0:\n",
        "    print(\"The number is positive.\")\n",
        "elif number < 0:\n",
        "    print(\"The number is negative.\")\n",
        "else:\n",
        "    print(\"The number is zero.\")"
      ],
      "metadata": {
        "colab": {
          "base_uri": "https://localhost:8080/"
        },
        "id": "l3lW8zF28rjv",
        "outputId": "ab5e0609-4f96-41ac-e288-b5ef36d389da"
      },
      "execution_count": 20,
      "outputs": [
        {
          "output_type": "stream",
          "name": "stdout",
          "text": [
            "Enter a number: 0\n",
            "The number is zero.\n"
          ]
        }
      ]
    },
    {
      "cell_type": "code",
      "source": [
        "#12.  Write a for loop to print numbers from 1 to 10.\n",
        "# Using a for loop to print numbers from 1 to 10\n",
        "for number in range(1, 11):\n",
        "    print(number)\n"
      ],
      "metadata": {
        "colab": {
          "base_uri": "https://localhost:8080/"
        },
        "id": "yXam6n7D89dp",
        "outputId": "05f08e53-37d0-4608-eb1e-69f73cec5e22"
      },
      "execution_count": 21,
      "outputs": [
        {
          "output_type": "stream",
          "name": "stdout",
          "text": [
            "1\n",
            "2\n",
            "3\n",
            "4\n",
            "5\n",
            "6\n",
            "7\n",
            "8\n",
            "9\n",
            "10\n"
          ]
        }
      ]
    },
    {
      "cell_type": "code",
      "source": [
        "#13. Write a Python program to find the sum of all even numbers between 1 and 50\n",
        "# Initialize the sum variable\n",
        "sum_even = 0\n",
        "\n",
        "# Loop through numbers from 1 to 50\n",
        "for number in range(2, 51, 2):  # Start from 2 to include even numbers\n",
        "    sum_even += number  # Add the even number to the sum\n",
        "\n",
        "# Print the result\n",
        "print(\"The sum of all even numbers between 1 and 50 is:\", sum_even)"
      ],
      "metadata": {
        "colab": {
          "base_uri": "https://localhost:8080/"
        },
        "id": "07U6pk739S3v",
        "outputId": "fe1b85a4-6f71-4d0a-b69e-ddda9eba0450"
      },
      "execution_count": 22,
      "outputs": [
        {
          "output_type": "stream",
          "name": "stdout",
          "text": [
            "The sum of all even numbers between 1 and 50 is: 650\n"
          ]
        }
      ]
    },
    {
      "cell_type": "code",
      "source": [
        "#14. Write a program to reverse a string using a while loop.\n",
        "# Input string from the user\n",
        "user_string = input(\"Enter a string: \")\n",
        "\n",
        "# Initialize variables\n",
        "reversed_string = \"\"\n",
        "index = len(user_string) - 1  # Start from the last character\n",
        "\n",
        "# Reverse the string using a while loop\n",
        "while index >= 0:\n",
        "    reversed_string += user_string[index]  # Add the character at the current index to the reversed string\n",
        "    index -= 1  # Move to the previous character\n",
        "\n",
        "# Output the reversed string\n",
        "print(\"Reversed string:\", reversed_string)"
      ],
      "metadata": {
        "colab": {
          "base_uri": "https://localhost:8080/"
        },
        "id": "fp5hcx_39mLU",
        "outputId": "dabb7175-63bb-4122-8a86-71023b548a39"
      },
      "execution_count": 23,
      "outputs": [
        {
          "output_type": "stream",
          "name": "stdout",
          "text": [
            "Enter a string: akash\n",
            "Reversed string: hsaka\n"
          ]
        }
      ]
    },
    {
      "cell_type": "code",
      "source": [
        "#15. Write a Python program to calculate the factorial of a number provided by the user using a while loop.\n",
        "# Input number from the user\n",
        "num = int(input(\"Enter a number: \"))\n",
        "\n",
        "# Initialize variables\n",
        "factorial = 1\n",
        "i = 1\n",
        "\n",
        "# Calculate factorial using while loop\n",
        "while i <= num:\n",
        "    factorial *= i  # Multiply the current factorial by i\n",
        "    i += 1  # Increment i to move to the next number\n",
        "\n",
        "# Output the result\n",
        "print(f\"The factorial of {num} is: {factorial}\")"
      ],
      "metadata": {
        "colab": {
          "base_uri": "https://localhost:8080/"
        },
        "id": "Y6Tskl7s91UB",
        "outputId": "fb85b3fc-ef95-4c08-f0a5-d1460f9284b0"
      },
      "execution_count": 24,
      "outputs": [
        {
          "output_type": "stream",
          "name": "stdout",
          "text": [
            "Enter a number: 14\n",
            "The factorial of 14 is: 87178291200\n"
          ]
        }
      ]
    }
  ]
}