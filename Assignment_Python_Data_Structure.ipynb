{
  "nbformat": 4,
  "nbformat_minor": 0,
  "metadata": {
    "colab": {
      "provenance": []
    },
    "kernelspec": {
      "name": "python3",
      "display_name": "Python 3"
    },
    "language_info": {
      "name": "python"
    }
  },
  "cells": [
    {
      "cell_type": "markdown",
      "source": [
        "#Assignment : Python - Data Structure\n",
        "\n",
        "1. What are data structures, and why are they important?\n",
        "  - Data structures are ways to organize and store data in a computer so that it can be efficiently accessed and manipulated. They are important because they enable efficient data storage, retrieval, and manipulation, which are essential for writing efficient and scalable software.\n",
        "\n",
        "2. Explain the difference between mutable and immutable data types with examples.\n",
        "  - Mutable data types can be modified after creation, while immutable data types cannot. Examples:\n",
        "  - Mutable: Lists (my_list = [1, 2, 3]; my_list[0] = 4), Dictionaries (my_dict = {\"a\": 1}; my_dict[\"b\"] = 2)\n",
        "  - Immutable: Integers (my_int = 5), Strings (my_str = \"hello\"), Tuples (my_tuple = (1, 2, 3))\n",
        "\n",
        "3. What are the main differences between lists and tuples in Python?\n",
        "The main differences are:\n",
        "  - Mutability: Lists are mutable, while tuples are immutable.\n",
        "  - Syntax: Lists use square brackets [], while tuples use parentheses ().\n",
        "  - Use cases: Lists are suitable for dynamic data, while tuples are suitable for static data.\n",
        "\n",
        "4. Describe how dictionaries store data.\n",
        "  - Dictionaries store data as key-value pairs, where each key is unique and maps to a specific value. They use a hash table to store and retrieve data efficiently.\n",
        "\n",
        "5. Why might you use a set instead of a list in Python?\n",
        "  - might use a set instead of a list when:\n",
        "  - need to store unique elements.\n",
        "  - need to perform set operations (e.g., union, intersection).\n",
        "  - need fast membership testing.\n",
        "\n",
        "6. What is a string in Python, and how is it different from a list?\n",
        "  - A string is an immutable sequence of characters. It is different from a list in that:\n",
        "  - Strings are immutable, while lists are mutable.\n",
        "  - Strings have additional methods for text manipulation (e.g., upper(), split()).\n",
        "\n",
        "7. How do tuples ensure data integrity in Python?\n",
        "  - Tuples ensure data integrity by being immutable, which means that once a tuple is created, its contents cannot be modified. This prevents accidental or intentional changes to the data.\n",
        "\n",
        "8. What is a hash table, and how does it relate to dictionaries in Python?\n",
        "  - A hash table is a data structure that maps keys to values using a hash function. In Python, dictionaries are implemented using hash tables, which allows for efficient storage and retrieval of key-value pairs.\n",
        "\n",
        "9. Can lists contain different data types in Python?\n",
        "  - Yes, lists can contain different data types in Python, including integers, floats, strings, and other lists.\n",
        "\n",
        "10. Explain why strings are immutable in Python.\n",
        "  - Strings are immutable in Python because it allows for:\n",
        "  - Efficient storage and caching of strings.\n",
        "  - Thread-safety, as multiple threads can access the same string without fear of modification.\n",
        "  - Improved security, as immutable strings reduce the risk of buffer overflow attacks.\n",
        "\n",
        "11. What advantages do dictionaries offer over lists for certain tasks?\n",
        "  - Dictionaries offer advantages over lists when:\n",
        "  - need to store and retrieve data by key.\n",
        "  - need fast lookup and insertion times.\n",
        "  - need to store sparse data.\n",
        "\n",
        "12. Describe a scenario where using a tuple would be preferable over a list.\n",
        "  - Using a tuple would be preferable over a list when:\n",
        "  - need to store a small, fixed-size collection of data.\n",
        "  - need to ensure data integrity and prevent modification.\n",
        "  - need to use the data as a dictionary key or set element.\n",
        "\n",
        "13. How do sets handle duplicate values in Python?\n",
        "  - Sets in Python automatically eliminate duplicate values, as they only store unique elements.\n",
        "\n",
        "14. How does the “in” keyword work differently for lists and dictionaries?\n",
        "  - The in keyword works differently for lists and dictionaries:\n",
        "  - For lists, in checks if an element is present in the list.\n",
        "  - For dictionaries, in checks if a key is present in the dictionary.\n",
        "\n",
        "15. Can you modify the elements of a tuple? Explain why or why not?\n",
        "  - No, you cannot modify the elements of a tuple because tuples are immutable in Python. Attempting to modify a tuple will result in a TypeError.\n",
        "\n",
        "16. What is a nested dictionary, and give an example of its use case?\n",
        "  - A nested dictionary is a dictionary that contains another dictionary as a value.\n",
        "  - Use case: Storing complex, hierarchical data.\n",
        "\n"
      ],
      "metadata": {
        "id": "8wXQfDP32XIK"
      }
    },
    {
      "cell_type": "code",
      "source": [
        "ice_cream_data = {\n",
        "    'chocolate': {\n",
        "        'name': 'Chocolate Fudge',\n",
        "        'price': 5.00,\n",
        "        'stock': 15\n",
        "    },\n",
        "    'vanilla': {\n",
        "        'name': 'Classic Vanilla',\n",
        "        'price': 4.50,\n",
        "        'stock': 20\n",
        "    }\n",
        "}\n",
        "print(ice_cream_data)"
      ],
      "metadata": {
        "colab": {
          "base_uri": "https://localhost:8080/"
        },
        "id": "4J1cKQA05Ve8",
        "outputId": "d3b8166d-831f-43e3-ea3f-4a9c2fdf7071"
      },
      "execution_count": 5,
      "outputs": [
        {
          "output_type": "stream",
          "name": "stdout",
          "text": [
            "{'chocolate': {'name': 'Chocolate Fudge', 'price': 5.0, 'stock': 15}, 'vanilla': {'name': 'Classic Vanilla', 'price': 4.5, 'stock': 20}}\n"
          ]
        }
      ]
    },
    {
      "cell_type": "markdown",
      "source": [
        "17. Describe the time complexity of accessing elements in a dictionary?\n",
        "  - The time complexity of accessing elements in a dictionary is O(1), making it very efficient for lookup and retrieval operations.\n",
        "\n",
        "18. In what situations are lists preferred over dictionaries?\n",
        "  - Lists are preferred over dictionaries when:\n",
        "     - to store a collection of items with a specific order.\n",
        "      - to store a large number of items and memory efficiency is not a concern.\n",
        "      - to perform operations like indexing, slicing, and concatenation.\n",
        "\n",
        "19. Why are dictionaries considered unordered, and how does that affect data retrieval?\n",
        "  - Dictionaries are considered unordered because the order of the key-value pairs is not guaranteed. This affects data retrieval in that you cannot rely on the order of the items when iterating over the dictionary.\n",
        "\n",
        "20. Explain the difference between a list and a dictionary in terms of data retrieval.\n",
        "  - The main difference between a list and a dictionary in terms of data retrieval is:\n",
        "      - Lists: You retrieve data by its index (position).\n",
        "      - Dictionaries: You retrieve data by its key.\n"
      ],
      "metadata": {
        "id": "J-8WB2fZ5LRV"
      }
    },
    {
      "cell_type": "code",
      "source": [
        "## 1. Write a code to create a string with your name and print it.\n",
        "my_name = input(\"Your Name\")\n",
        "print(my_name)"
      ],
      "metadata": {
        "colab": {
          "base_uri": "https://localhost:8080/"
        },
        "id": "97RVHDok7BLc",
        "outputId": "235ed605-6c0b-4859-882e-196ec5f6b7bf"
      },
      "execution_count": 7,
      "outputs": [
        {
          "output_type": "stream",
          "name": "stdout",
          "text": [
            "Your NameAkash\\\n",
            "Akash\\\n"
          ]
        }
      ]
    },
    {
      "cell_type": "code",
      "source": [
        "## 2. Write a code to find the length of the string \"Hello World\".\n",
        "string = \"Hello World\"\n",
        "length = len(string)\n",
        "print(length)"
      ],
      "metadata": {
        "colab": {
          "base_uri": "https://localhost:8080/"
        },
        "id": "qdaLR7q67DiE",
        "outputId": "71f95994-84b6-4638-f520-0c5d2476e50a"
      },
      "execution_count": 8,
      "outputs": [
        {
          "output_type": "stream",
          "name": "stdout",
          "text": [
            "11\n"
          ]
        }
      ]
    },
    {
      "cell_type": "code",
      "source": [
        "## 3. Write a code to slice the first 3 characters from the string \"Python Programming\".\n",
        "string = \"Python Programming\"\n",
        "sliced_string = string[:3]\n",
        "print(sliced_string)"
      ],
      "metadata": {
        "colab": {
          "base_uri": "https://localhost:8080/"
        },
        "id": "oRYKuK_l7Fvk",
        "outputId": "d81e78bc-8b8d-41b8-de48-5b6a31dbea6d"
      },
      "execution_count": 9,
      "outputs": [
        {
          "output_type": "stream",
          "name": "stdout",
          "text": [
            "Pyt\n"
          ]
        }
      ]
    },
    {
      "cell_type": "code",
      "source": [
        "## 4. Write a code to convert the string \"hello\" to uppercase.\n",
        "string = \"hello\"\n",
        "uppercase_string = string.upper()\n",
        "print(uppercase_string)"
      ],
      "metadata": {
        "colab": {
          "base_uri": "https://localhost:8080/"
        },
        "id": "ZeObUgTd7HFF",
        "outputId": "db802510-72a4-4fdf-86df-c8377995de40"
      },
      "execution_count": 10,
      "outputs": [
        {
          "output_type": "stream",
          "name": "stdout",
          "text": [
            "HELLO\n"
          ]
        }
      ]
    },
    {
      "cell_type": "code",
      "source": [
        "## 5. Write a code to replace the word \"apple\" with \"orange\" in the string \"I like apple\".\n",
        "string = \"I like apple\"\n",
        "new_string = string.replace(\"apple\", \"orange\")\n",
        "print(new_string)"
      ],
      "metadata": {
        "colab": {
          "base_uri": "https://localhost:8080/"
        },
        "id": "O8YOYFL-7Ifl",
        "outputId": "af471e3b-3ad1-411e-bbf6-439fe2a352fa"
      },
      "execution_count": 11,
      "outputs": [
        {
          "output_type": "stream",
          "name": "stdout",
          "text": [
            "I like orange\n"
          ]
        }
      ]
    },
    {
      "cell_type": "code",
      "source": [
        "## 6. Write a code to create a list with numbers 1 to 5 and print it.\n",
        "my_list = [1, 2, 3, 4, 5]\n",
        "print(my_list)"
      ],
      "metadata": {
        "colab": {
          "base_uri": "https://localhost:8080/"
        },
        "id": "GdnWAg8M7KXn",
        "outputId": "c1b86c8e-1e94-4125-9e11-52c2a076dfb9"
      },
      "execution_count": 12,
      "outputs": [
        {
          "output_type": "stream",
          "name": "stdout",
          "text": [
            "[1, 2, 3, 4, 5]\n"
          ]
        }
      ]
    },
    {
      "cell_type": "code",
      "source": [
        "## 7. Write a code to append the number 10 to the list [1, 2, 3, 4].\n",
        "my_list = [1, 2, 3, 4]\n",
        "my_list.append(10)\n",
        "print(my_list)"
      ],
      "metadata": {
        "colab": {
          "base_uri": "https://localhost:8080/"
        },
        "id": "2WVFNJ1y7L58",
        "outputId": "356de9a4-d792-4586-9d01-88de77fba738"
      },
      "execution_count": 13,
      "outputs": [
        {
          "output_type": "stream",
          "name": "stdout",
          "text": [
            "[1, 2, 3, 4, 10]\n"
          ]
        }
      ]
    },
    {
      "cell_type": "code",
      "source": [
        "## 8. Write a code to remove the number 3 from the list [1, 2, 3, 4, 5].\n",
        "my_list = [1, 2, 3, 4, 5]\n",
        "my_list.remove(3)\n",
        "print(my_list)"
      ],
      "metadata": {
        "colab": {
          "base_uri": "https://localhost:8080/"
        },
        "id": "hbs4-QXK7NFF",
        "outputId": "b862b54f-b911-4c95-d6a8-5f320cc4e35f"
      },
      "execution_count": 14,
      "outputs": [
        {
          "output_type": "stream",
          "name": "stdout",
          "text": [
            "[1, 2, 4, 5]\n"
          ]
        }
      ]
    },
    {
      "cell_type": "code",
      "source": [
        "## 9. Write a code to access the second element in the list ['a', 'b', 'c', 'd'].\n",
        "my_list = ['a', 'b', 'c', 'd']\n",
        "second_element = my_list[1]\n",
        "print(second_element)"
      ],
      "metadata": {
        "colab": {
          "base_uri": "https://localhost:8080/"
        },
        "id": "DvnfSeR47OOR",
        "outputId": "69c1b042-1bd5-4a6f-ec4c-5994d0b06698"
      },
      "execution_count": 15,
      "outputs": [
        {
          "output_type": "stream",
          "name": "stdout",
          "text": [
            "b\n"
          ]
        }
      ]
    },
    {
      "cell_type": "code",
      "source": [
        "## 10. Write a code to reverse the list [10, 20, 30, 40, 50].\n",
        "my_list = [10, 20, 30, 40, 50]\n",
        "my_list.reverse()\n",
        "print(my_list)"
      ],
      "metadata": {
        "colab": {
          "base_uri": "https://localhost:8080/"
        },
        "id": "75rIsK-G7PkM",
        "outputId": "92b64dc6-4c36-4e8c-dee1-c840b7a418e2"
      },
      "execution_count": 16,
      "outputs": [
        {
          "output_type": "stream",
          "name": "stdout",
          "text": [
            "[50, 40, 30, 20, 10]\n"
          ]
        }
      ]
    },
    {
      "cell_type": "code",
      "source": [
        "## 11. Write a code to create a tuple with the elements 100, 200, 300 and print it.\n",
        "my_tuple = (100, 200, 300)\n",
        "print(my_tuple)"
      ],
      "metadata": {
        "colab": {
          "base_uri": "https://localhost:8080/"
        },
        "id": "2GX5KGOu8Upk",
        "outputId": "34acaef6-bf30-4b37-fec4-18c4f79cdc62"
      },
      "execution_count": 17,
      "outputs": [
        {
          "output_type": "stream",
          "name": "stdout",
          "text": [
            "(100, 200, 300)\n"
          ]
        }
      ]
    },
    {
      "cell_type": "code",
      "source": [
        "## 12. Write a code to access the second-to-last element of the tuple ('red', 'green', 'blue', 'yellow').\n",
        "my_tuple = ('red', 'green', 'blue', 'yellow')\n",
        "second_to_last_element = my_tuple[-2]\n",
        "print(second_to_last_element)"
      ],
      "metadata": {
        "colab": {
          "base_uri": "https://localhost:8080/"
        },
        "id": "zQ7X7ECJ-oZV",
        "outputId": "3d953032-3a09-4aa7-c06c-e52ce939d3f7"
      },
      "execution_count": 18,
      "outputs": [
        {
          "output_type": "stream",
          "name": "stdout",
          "text": [
            "blue\n"
          ]
        }
      ]
    },
    {
      "cell_type": "code",
      "source": [
        "## 13. Write a code to find the minimum number in the tuple (10, 20, 5, 15).\n",
        "my_tuple = (10, 20, 5, 15)\n",
        "minimum_number = min(my_tuple)\n",
        "print(minimum_number)"
      ],
      "metadata": {
        "colab": {
          "base_uri": "https://localhost:8080/"
        },
        "id": "W1WiDe9Y-qDd",
        "outputId": "51cb3189-f564-4f3e-e78e-19a876882e94"
      },
      "execution_count": 19,
      "outputs": [
        {
          "output_type": "stream",
          "name": "stdout",
          "text": [
            "5\n"
          ]
        }
      ]
    },
    {
      "cell_type": "code",
      "source": [
        "## 14. Write a code to find the index of the element \"cat\" in the tuple ('dog', 'cat', 'rabbit').\n",
        "my_tuple = ('dog', 'cat', 'rabbit')\n",
        "index_of_cat = my_tuple.index('cat')\n",
        "print(index_of_cat)\n"
      ],
      "metadata": {
        "colab": {
          "base_uri": "https://localhost:8080/"
        },
        "id": "ieSBuHiV-tWT",
        "outputId": "0a2719ce-b6f9-4d5f-c92a-35cc4da4c4d4"
      },
      "execution_count": 20,
      "outputs": [
        {
          "output_type": "stream",
          "name": "stdout",
          "text": [
            "1\n"
          ]
        }
      ]
    },
    {
      "cell_type": "code",
      "source": [
        "## 15. Write a code to create a tuple containing three different fruits and check if \"kiwi\" is in it.\n",
        "my_tuple = ('apple', 'banana', 'cherry')\n",
        "is_kiwi_in_tuple = 'kiwi' in my_tuple\n",
        "print(is_kiwi_in_tuple)"
      ],
      "metadata": {
        "colab": {
          "base_uri": "https://localhost:8080/"
        },
        "id": "UCMOXzWW-u5U",
        "outputId": "01bbd383-9e87-4d6a-a66b-2328955d7896"
      },
      "execution_count": 21,
      "outputs": [
        {
          "output_type": "stream",
          "name": "stdout",
          "text": [
            "False\n"
          ]
        }
      ]
    },
    {
      "cell_type": "code",
      "source": [
        "## 16. Write a code to create a set with the elements 'a', 'b', 'c' and print it.\n",
        "my_set = {'a', 'b', 'c'}\n",
        "print(my_set)"
      ],
      "metadata": {
        "colab": {
          "base_uri": "https://localhost:8080/"
        },
        "id": "WL5s15nF-yFd",
        "outputId": "a02aba73-2cfe-4ef2-c02a-49c67ef27bbe"
      },
      "execution_count": 22,
      "outputs": [
        {
          "output_type": "stream",
          "name": "stdout",
          "text": [
            "{'b', 'c', 'a'}\n"
          ]
        }
      ]
    },
    {
      "cell_type": "code",
      "source": [
        "## 17. Write a code to clear all elements from the set {1, 2, 3, 4, 5}.\n",
        "my_set = {1, 2, 3, 4, 5}\n",
        "my_set.clear()\n",
        "print(my_set)"
      ],
      "metadata": {
        "colab": {
          "base_uri": "https://localhost:8080/"
        },
        "id": "u69Hg34h-zW5",
        "outputId": "4521c2e8-26ef-49bc-d840-be6ab3d5f330"
      },
      "execution_count": 23,
      "outputs": [
        {
          "output_type": "stream",
          "name": "stdout",
          "text": [
            "set()\n"
          ]
        }
      ]
    },
    {
      "cell_type": "code",
      "source": [
        "## 18. Write a code to remove the element 4 from the set {1, 2, 3, 4}.\n",
        "my_set = {1, 2, 3, 4}\n",
        "my_set.remove(4)\n",
        "print(my_set)"
      ],
      "metadata": {
        "colab": {
          "base_uri": "https://localhost:8080/"
        },
        "id": "uVHXFUEH-04O",
        "outputId": "4423bdbc-f679-4074-8cb0-2ca31414876c"
      },
      "execution_count": 24,
      "outputs": [
        {
          "output_type": "stream",
          "name": "stdout",
          "text": [
            "{1, 2, 3}\n"
          ]
        }
      ]
    },
    {
      "cell_type": "code",
      "source": [
        "## 19. Write a code to find the union of two sets {1, 2, 3} and {3, 4, 5}.\n",
        "set1 = {1, 2, 3}\n",
        "set2 = {3, 4, 5}\n",
        "union_set = set1.union(set2)\n",
        "print(union_set)"
      ],
      "metadata": {
        "colab": {
          "base_uri": "https://localhost:8080/"
        },
        "id": "lJ943FUo-2ck",
        "outputId": "bee6555c-9568-498e-c759-2490324d50a4"
      },
      "execution_count": 25,
      "outputs": [
        {
          "output_type": "stream",
          "name": "stdout",
          "text": [
            "{1, 2, 3, 4, 5}\n"
          ]
        }
      ]
    },
    {
      "cell_type": "code",
      "source": [
        "## 20. Write a code to find the intersection of two sets {1, 2, 3} and {2, 3, 4}.\n",
        "set1 = {1, 2, 3}\n",
        "set2 = {2, 3, 4}\n",
        "intersection_set = set1.intersection(set2)\n",
        "print(intersection_set)"
      ],
      "metadata": {
        "colab": {
          "base_uri": "https://localhost:8080/"
        },
        "id": "bZeXZNzA-38d",
        "outputId": "ab74006d-3c07-4b33-f4a7-3d063eeb8d13"
      },
      "execution_count": 26,
      "outputs": [
        {
          "output_type": "stream",
          "name": "stdout",
          "text": [
            "{2, 3}\n"
          ]
        }
      ]
    },
    {
      "cell_type": "code",
      "source": [
        "## 21. Write a code to create a dictionary with the keys \"name\", \"age\", and \"city\", and print it.\n",
        "my_dict = {\n",
        "    'name': 'Akash',\n",
        "    'age': 25,\n",
        "    'city': 'Patna'\n",
        "}\n",
        "print(my_dict)"
      ],
      "metadata": {
        "colab": {
          "base_uri": "https://localhost:8080/"
        },
        "id": "_1Bcn8fR-5P-",
        "outputId": "e0dfe5df-fa97-4a60-d386-e0167c2f420e"
      },
      "execution_count": 29,
      "outputs": [
        {
          "output_type": "stream",
          "name": "stdout",
          "text": [
            "{'name': 'Akash', 'age': 25, 'city': 'Patna'}\n"
          ]
        }
      ]
    },
    {
      "cell_type": "code",
      "source": [
        " ## 22.Write a code to add a new key-value pair \"country\": \"USA\" to the dictionary {'name': 'John', 'age': 25}.\n",
        " my_dict = {'name': 'John', 'age': 25}\n",
        "my_dict['country'] = 'USA'\n",
        "print(my_dict)"
      ],
      "metadata": {
        "colab": {
          "base_uri": "https://localhost:8080/"
        },
        "id": "e7Z8NKS6-6ql",
        "outputId": "9ad66b3c-08a7-4c3b-bad3-7aaf42f08201"
      },
      "execution_count": 32,
      "outputs": [
        {
          "output_type": "stream",
          "name": "stdout",
          "text": [
            "{'name': 'John', 'age': 25, 'country': 'USA'}\n"
          ]
        }
      ]
    },
    {
      "cell_type": "code",
      "source": [
        "## 23. Write a code to access the value associated with the key \"name\" in the dictionary {'name': 'Alice', 'age': 30}.\n",
        "my_dict = {'name': 'Alice', 'age': 30}\n",
        "name_value = my_dict['name']\n",
        "print(name_value)"
      ],
      "metadata": {
        "colab": {
          "base_uri": "https://localhost:8080/"
        },
        "id": "YwIVAWSA-74_",
        "outputId": "e609619c-8249-47f9-c848-cdf10c716005"
      },
      "execution_count": 33,
      "outputs": [
        {
          "output_type": "stream",
          "name": "stdout",
          "text": [
            "Alice\n"
          ]
        }
      ]
    },
    {
      "cell_type": "code",
      "source": [
        "## 24. Write a code to remove the key \"age\" from the dictionary {'name': 'Bob', 'age': 22, 'city': 'New York'}.\n",
        "my_dict = {'name': 'Bob', 'age': 22, 'city': 'New York'}\n",
        "del my_dict['age']\n",
        "print(my_dict)"
      ],
      "metadata": {
        "colab": {
          "base_uri": "https://localhost:8080/"
        },
        "id": "i2AhfPXY-97s",
        "outputId": "692648da-b127-4c6b-b4df-322a958127ca"
      },
      "execution_count": 34,
      "outputs": [
        {
          "output_type": "stream",
          "name": "stdout",
          "text": [
            "{'name': 'Bob', 'city': 'New York'}\n"
          ]
        }
      ]
    },
    {
      "cell_type": "code",
      "source": [
        "## 25. Write a code to check if the key \"city\" exists in the dictionary {'name': 'Alice', 'city': 'Paris'}.\n",
        "my_dict = {'name': 'Alice', 'city': 'Paris'}\n",
        "city_exists = 'city' in my_dict\n",
        "print(city_exists)"
      ],
      "metadata": {
        "colab": {
          "base_uri": "https://localhost:8080/"
        },
        "id": "v2KGuvbX-_lW",
        "outputId": "0db3f502-18c3-4d7f-de8f-36f014f255f9"
      },
      "execution_count": 35,
      "outputs": [
        {
          "output_type": "stream",
          "name": "stdout",
          "text": [
            "True\n"
          ]
        }
      ]
    },
    {
      "cell_type": "code",
      "source": [
        "## 26. Write a code to create a list, a tuple, and a dictionary, and print them all.\n",
        "my_list = [1, 2, 3, 4, 5]\n",
        "my_tuple = (1, 2, 3, 4, 5)\n",
        "my_dict = {'a': 1, 'b': 2, 'c': 3}\n",
        "print(\"List:\", my_list)\n",
        "print(\"Tuple:\", my_tuple)\n",
        "print(\"Dictionary:\", my_dict)"
      ],
      "metadata": {
        "colab": {
          "base_uri": "https://localhost:8080/"
        },
        "id": "neyvp1Iw_Aze",
        "outputId": "d5d9ae61-68e8-4561-f63d-ad2a42719bf7"
      },
      "execution_count": 37,
      "outputs": [
        {
          "output_type": "stream",
          "name": "stdout",
          "text": [
            "List: [1, 2, 3, 4, 5]\n",
            "Tuple: (1, 2, 3, 4, 5)\n",
            "Dictionary: {'a': 1, 'b': 2, 'c': 3}\n"
          ]
        }
      ]
    },
    {
      "cell_type": "code",
      "source": [
        "## 27. Write a code to create a list of 5 random numbers between 1 and 100, sort it in ascending order, and print the result.(replaced)\n",
        "import random\n",
        "random_numbers = [random.randint(1, 100) for _ in range(5)]\n",
        "random_numbers.sort()\n",
        "print(random_numbers)"
      ],
      "metadata": {
        "colab": {
          "base_uri": "https://localhost:8080/"
        },
        "id": "GiowLfvF_Csr",
        "outputId": "06fe675f-f27f-47d7-9288-fcf8638aa12a"
      },
      "execution_count": 38,
      "outputs": [
        {
          "output_type": "stream",
          "name": "stdout",
          "text": [
            "[1, 14, 16, 34, 60]\n"
          ]
        }
      ]
    },
    {
      "cell_type": "code",
      "source": [
        "## 28. Write a code to create a list with strings and print the element at the third index.\n",
        "my_list = ['apple', 'banana', 'cherry', 'date', 'elderberry']\n",
        "third_element = my_list[2]\n",
        "print(third_element)"
      ],
      "metadata": {
        "colab": {
          "base_uri": "https://localhost:8080/"
        },
        "id": "D4jB1ENL_F2s",
        "outputId": "90954d3d-5aec-458a-d8bc-fae8202a38a0"
      },
      "execution_count": 39,
      "outputs": [
        {
          "output_type": "stream",
          "name": "stdout",
          "text": [
            "cherry\n"
          ]
        }
      ]
    },
    {
      "cell_type": "code",
      "source": [
        "## 29. Write a code to combine two dictionaries into one and print the result.\n",
        "dict1 = {'a': 1, 'b': 2}\n",
        "dict2 = {'c': 3, 'd': 4}\n",
        "combined_dict = {**dict1, **dict2}\n",
        "print(combined_dict)"
      ],
      "metadata": {
        "colab": {
          "base_uri": "https://localhost:8080/"
        },
        "id": "X8XhDZ_E_HR7",
        "outputId": "f0d087d2-e702-4aa5-de7e-c667d5902f56"
      },
      "execution_count": 40,
      "outputs": [
        {
          "output_type": "stream",
          "name": "stdout",
          "text": [
            "{'a': 1, 'b': 2, 'c': 3, 'd': 4}\n"
          ]
        }
      ]
    },
    {
      "cell_type": "code",
      "source": [
        "## 30. Write a code to convert a list of strings into a set.\n",
        "string_list = [\"apple\", \"banana\", \"apple\", \"cherry\"]\n",
        "string_set = set(string_list)\n",
        "print(string_set)"
      ],
      "metadata": {
        "colab": {
          "base_uri": "https://localhost:8080/"
        },
        "id": "CDJ1cHvp_Ij8",
        "outputId": "2033b127-8cbf-4ae9-d564-77a57a0c7447"
      },
      "execution_count": 43,
      "outputs": [
        {
          "output_type": "stream",
          "name": "stdout",
          "text": [
            "{'banana', 'apple', 'cherry'}\n"
          ]
        }
      ]
    }
  ]
}