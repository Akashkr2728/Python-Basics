{
  "nbformat": 4,
  "nbformat_minor": 0,
  "metadata": {
    "colab": {
      "provenance": []
    },
    "kernelspec": {
      "name": "python3",
      "display_name": "Python 3"
    },
    "language_info": {
      "name": "python"
    }
  },
  "cells": [
    {
      "cell_type": "markdown",
      "source": [
        "1. What is the difference between a function and a method in Python?\n",
        "  - a i) A function is a block of reusable code that performs a specific task. It can take inputs (arguments) and can return an output (value).\n",
        "  - a ii) Functions are defined using the def keyword, followed by the function name and parentheses. They can be defined at the top level of a module or inside another function.\n",
        "  - a iii)Functions can be called independently of any object.\n",
        "  - b i)A method is similar to a function but is associated with an object (an instance of a class). Methods are defined within a class and are called on instances of that class.\n",
        "  - b ii)Methods have access to the data (attributes) of the object they belong to, and they are defined using the same def keyword.\n",
        "  - b iii) The first parameter of a method is typically self, which refers to the instance of the class."
      ],
      "metadata": {
        "id": "U6GNAIrnpF8v"
      }
    },
    {
      "cell_type": "code",
      "source": [
        "#Eg for function\n",
        "def add(a, b):\n",
        "    return a + b\n",
        "\n",
        "result = add(3, 5)  # Calling the function\n",
        "print(result)\n"
      ],
      "metadata": {
        "colab": {
          "base_uri": "https://localhost:8080/"
        },
        "id": "rtf6f2cysK8X",
        "outputId": "0cf6b5d8-3efd-4eef-d4c2-13d13454d3c6"
      },
      "execution_count": 1,
      "outputs": [
        {
          "output_type": "stream",
          "name": "stdout",
          "text": [
            "8\n"
          ]
        }
      ]
    },
    {
      "cell_type": "code",
      "source": [
        "#Example for Methods\n",
        "class Calculator:\n",
        "    def add(self, a, b):\n",
        "        return a + b\n",
        "\n",
        "calc = Calculator()  # Creating an instance of the class\n",
        "result = calc.add(3, 5)  # Calling the method on the instance\n",
        "print(result)"
      ],
      "metadata": {
        "colab": {
          "base_uri": "https://localhost:8080/"
        },
        "id": "DSV4_tqdsjaA",
        "outputId": "af6067a6-e77c-4662-ab49-f2a53cc3f176"
      },
      "execution_count": 2,
      "outputs": [
        {
          "output_type": "stream",
          "name": "stdout",
          "text": [
            "8\n"
          ]
        }
      ]
    },
    {
      "cell_type": "markdown",
      "source": [
        "2. Explain the concept of function arguments and parameters in Python.\n",
        "  - The concepts of function arguments and parameters are fundamental to how functions operate. They are closely related but refer to different aspects of function definitions and calls.\n",
        "  -a i) Parameters are the variables that are defined in a function's signature (the function definition). They act as placeholders for the values that will be passed to the function when it is called.\n",
        "  -a ii) Parameters specify what kind of input the function expects and can be used within the function body to perform operations.\n",
        "  - b i)Arguments are the actual values that we pass to a function when we call it. These values are assigned to the corresponding parameters in the function definition.\n",
        "  - b ii)Arguments can be of any data type, including integers, strings, lists, or even other functions."
      ],
      "metadata": {
        "id": "d1n4ikmgtICO"
      }
    },
    {
      "cell_type": "code",
      "source": [
        "#Eamples of Arguments\n",
        "def greet(name=\"Guest\"):\n",
        "    print(f\"Hello, {name}!\")\n",
        "\n",
        "greet()\n",
        "greet(\"Alice\")\n",
        "\n",
        "#Eamples of Parameters\n",
        "def add(a, b):  # 'a' and 'b' are positional parameters\n",
        "    return a + b\n",
        "\n",
        "print(add(2, 3))\n"
      ],
      "metadata": {
        "colab": {
          "base_uri": "https://localhost:8080/"
        },
        "id": "V7BEwDuCvDkd",
        "outputId": "5a22dfe9-76e7-4781-ce2f-91bea5637dbb"
      },
      "execution_count": 7,
      "outputs": [
        {
          "output_type": "stream",
          "name": "stdout",
          "text": [
            "Hello, Guest!\n",
            "Hello, Alice!\n",
            "5\n"
          ]
        }
      ]
    },
    {
      "cell_type": "markdown",
      "source": [
        "3. What are the different ways to define and call a function in Python?\n",
        "  - There are several ways to define and call functions, each serving different purposes and use cases.\n",
        "\n",
        "  Defining a Function\n",
        "  - 1. Standard Function Definition\n",
        "  - 2. Function with Default Parameters\n",
        "  - 3. Function with Variable-Length Arguments\n",
        "  - 4. Lambda Function (Anonymous Function)\n",
        "  - 5. Nested Function\n",
        "  - 6. Function with Type Annotations\n",
        "\n",
        "  Calling a Function\n",
        "    - 1. Basic Function Call\n",
        "    - 2. Calling with Keyword Arguments\n",
        "    - 3. Calling with Default Parameters\n",
        "    - 4. Using Positional and Keyword Arguments Together\n",
        "    - 5. Unpacking Arguments\n",
        "    - 6. Calling Lambda Functions\n",
        "\n",
        "4. What is the purpose of the `return` statement in a Python function?\n",
        "  - The return statement in a Python function serves several important purposes:\n",
        "    1. The primary purpose of the return statement is to send a value back to the caller of the function. When a function is called, it can perform some operations and then use the return statement to provide a result.\n",
        "    2. The return statement also serves to exit a function. When the return statement is executed, the function terminates immediately, and control is returned to the point where the function was called. If no value is specified, None is returned by default.\n",
        "    3. A function to return multiple values as a tuple. This can be useful when we want to return more than one piece of information from a function.\n",
        "    4. We can use the return statement conditionally within a function to return different values based on certain conditions.\n",
        "  "
      ],
      "metadata": {
        "id": "hmnc7ioEwDdn"
      }
    },
    {
      "cell_type": "code",
      "source": [
        "#Examples of Question 4.\n",
        "#serial wise\n",
        "#1.\n",
        "def add(a, b):\n",
        "    return a + b\n",
        "\n",
        "result = add(3, 5)\n",
        "print(result)\n",
        "\n",
        "\n",
        "#2\n",
        "def check_even(number):\n",
        "    if number % 2 == 0:\n",
        "        return True  # Exit the function if the number is even\n",
        "    return False  # This line is reached only if the number is odd\n",
        "\n",
        "result = check_even(4)\n",
        "print(result)\n",
        "\n",
        "#3\n",
        "def get_coordinates():\n",
        "    return (10, 20)  # Returning a tuple of coordinates\n",
        "\n",
        "x, y = get_coordinates()  # Unpacking the returned tuple\n",
        "print(x, y)\n",
        "\n",
        "\n",
        "#4\n",
        "def describe_number(number):\n",
        "    if number > 0:\n",
        "        return \"Positive\"\n",
        "    elif number < 0:\n",
        "        return \"Negative\"\n",
        "    else:\n",
        "        return \"Zero\"\n",
        "\n",
        "result = describe_number(-5)\n",
        "print(result)"
      ],
      "metadata": {
        "colab": {
          "base_uri": "https://localhost:8080/"
        },
        "id": "4dEm3MiL3eQM",
        "outputId": "aaaaeabc-8b6a-48ff-e6ea-882d3afb58e3"
      },
      "execution_count": 27,
      "outputs": [
        {
          "output_type": "stream",
          "name": "stdout",
          "text": [
            "8\n",
            "True\n",
            "10 20\n",
            "Negative\n"
          ]
        }
      ]
    },
    {
      "cell_type": "markdown",
      "source": [
        "5. 5. What are iterators in Python and how do they differ from iterables?\n",
        "  - An iterable is any Python object that can return its elements one at a time. This means that you can iterate over it using a for loop or other iteration contexts.\n",
        "  -Common examples of iterables include lists, tuples, dictionaries, sets, and strings.\n",
        "  - An iterable implements the __iter__() method, which returns an iterator object."
      ],
      "metadata": {
        "id": "-2u4DZ6i4Ow5"
      }
    },
    {
      "cell_type": "code",
      "source": [
        "#Example of Question-05\n",
        "my_list = [1, 2, 3, 4, 5]\n",
        "\n",
        "for item in my_list:  # my_list is an iterable\n",
        "    print(item)"
      ],
      "metadata": {
        "colab": {
          "base_uri": "https://localhost:8080/"
        },
        "id": "WxFsw49w4m_d",
        "outputId": "9bdf4707-5b24-4e26-ab8b-20a16f632a86"
      },
      "execution_count": 29,
      "outputs": [
        {
          "output_type": "stream",
          "name": "stdout",
          "text": [
            "1\n",
            "2\n",
            "3\n",
            "4\n",
            "5\n"
          ]
        }
      ]
    },
    {
      "cell_type": "markdown",
      "source": [
        "6. Explain the concept of generators in Python and how they are defined.\n",
        "  - A generator in Python is a special type of iterable that generates values lazily, meaning it produces one value at a time as needed, rather than computing and storing all the values in memory at once. Generators are particularly useful when working with large datasets or infinite sequences.\n",
        "  Generators are implemented using the yield keyword in Python, which makes them distinct from regular functions.\n",
        "    - Key Characteristics of Generators\n",
        "    a) Lazy Evaluation: Generators compute values on the fly. This makes them memory-efficient, as they do not store all the values in memory at once.\n",
        "    b) Stateful: Generators maintain their state between successive calls, so they remember where they left off.\n",
        "    c) One-Time Use: A generator can only be iterated through once. To restart, you need to create a new generator instance.\n",
        "    d) Defined using yield: Instead of return, generators use yield to produce values one at a time."
      ],
      "metadata": {
        "id": "UNyrDoR44wnH"
      }
    },
    {
      "cell_type": "code",
      "source": [
        "#Example of Question -06\n",
        "def count_up_to(n):\n",
        "    count = 1\n",
        "    while count <= n:\n",
        "        yield count  # Yield the current count\n",
        "        count += 1   # Increment the count\n",
        "\n",
        "# Using the generator\n",
        "counter = count_up_to(5)\n",
        "\n",
        "for number in counter:\n",
        "    print(number)"
      ],
      "metadata": {
        "colab": {
          "base_uri": "https://localhost:8080/"
        },
        "id": "duevyPt-4wPr",
        "outputId": "3432ede9-b9ba-4f7c-d2a4-a15122cdbc86"
      },
      "execution_count": 30,
      "outputs": [
        {
          "output_type": "stream",
          "name": "stdout",
          "text": [
            "1\n",
            "2\n",
            "3\n",
            "4\n",
            "5\n"
          ]
        }
      ]
    },
    {
      "cell_type": "markdown",
      "source": [
        "7. What are the advantages of using generators over regular functions?\n",
        "  - The advantages of using generators over regular functions include:\n",
        "\n",
        "    - Memory efficiency due to lazy evaluation.\n",
        "    - Performance improvements by reducing overhead and allowing short-circuiting.\n",
        "    - Cleaner and simpler code that is easier to read and maintain.\n",
        "    - The ability to create infinite sequences without memory issues.\n",
        "    - Easier chaining and pipelining of data processing tasks.\n",
        "    - Better handling of large data streams without loading everything into memory.\n",
        "\n",
        "These benefits make generators a powerful tool in Python for writing efficient, scalable, and maintainable code.\n",
        "\n",
        "8. What is a lambda function in Python and when is it typically used?\n",
        "  - A lambda function in Python is a small, anonymous function defined using the lambda keyword. Unlike a regular function defined using def, a lambda function is limited to a single expression and does not require a name.\n",
        "\n",
        "  - Lambda functions are often used when you need a simple, short function for immediate use and do not want to formally define it with a def statement.\n",
        "      - Lambda functions are commonly used in several scenarios:\n",
        "      1. Short-lived Functions: When you need a simple function for a short period, such as when passing a function as an argument to higher-order functions (functions that take other functions as arguments).\n",
        "      2. Lambda functions are often used with functions like map(), filter(), and reduce() to apply a function to a list or other iterable.\n",
        "      3. Sorting and Custom Key Functions: Lambda functions are often used as key functions in sorting operations, allowing you to define custom sorting criteria.\n",
        "      4. Event Handling: In GUI programming or event-driven programming, lambda functions can be used to define simple event handlers.\n",
        "  - A lambda function in Python is a concise, anonymous function defined using the lambda keyword. It is typically used for short-lived functions, especially in functional programming contexts, such as with map(), filter(), and sorting operations. While lambda functions are powerful for simple tasks, they are limited to single expressions and may reduce code readability in more complex scenarios.\n",
        "  \n",
        "9. Explain the purpose and usage of the `map()` function in Python.\n",
        "  - The map() function in Python is a built-in function that applies a given function to each item of an iterable (like a list, tuple, or set) and returns an iterator with the results. It is commonly used for transforming or processing data in an iterable without requiring an explicit loop.\n",
        "   - Converting Data Types:\n",
        "   - Applying a Function to a List:\n",
        "   - Chaining with Other Functions:\n",
        "\n"
      ],
      "metadata": {
        "id": "24M4EZJn5vQg"
      }
    },
    {
      "cell_type": "code",
      "source": [
        "#Examples of Question -09\n",
        "strings = ['1', '2', '3']\n",
        "integers = map(int, strings)  # Convert strings to integers\n",
        "print(list(integers))\n",
        "\n",
        "#\n",
        "words = ['hello', 'world']\n",
        "uppercased = map(str.upper, words)  # Convert each word to uppercase\n",
        "print(list(uppercased))"
      ],
      "metadata": {
        "colab": {
          "base_uri": "https://localhost:8080/"
        },
        "id": "olWYGW1t9I5X",
        "outputId": "b969c4cf-0b1d-4f62-b6b7-942e4c87fbd4"
      },
      "execution_count": 32,
      "outputs": [
        {
          "output_type": "stream",
          "name": "stdout",
          "text": [
            "[1, 2, 3]\n",
            "['HELLO', 'WORLD']\n"
          ]
        }
      ]
    },
    {
      "cell_type": "markdown",
      "source": [
        "10. What is the difference between `map()`, `reduce()`, and `filter()` functions in Python?\n",
        "  - Use map() when you need to transform each element of an iterable.\n",
        "Use reduce() when you need to aggregate all elements into a single value.\n",
        "Use filter() when you need to filter elements based on a condition.\n",
        "\n",
        "11."
      ],
      "metadata": {
        "id": "jhZ79VLN9ce_"
      }
    },
    {
      "cell_type": "code",
      "source": [
        "## 1.  Write a Python function that takes a list of numbers as input and returns the sum of all even numbers in the list.\n",
        "def sum_of_even_numbers(numbers):\n",
        "\n",
        "    return sum(number for number in numbers if number % 2 == 0)\n",
        "\n",
        "# Example usage\n",
        "numbers = [1, 2, 3, 4, 5, 6]\n",
        "result = sum_of_even_numbers(numbers)\n",
        "print(result)"
      ],
      "metadata": {
        "colab": {
          "base_uri": "https://localhost:8080/"
        },
        "id": "9woTB6E3-btz",
        "outputId": "6d26c924-6a07-4e46-c3a0-09741e61c390"
      },
      "execution_count": 35,
      "outputs": [
        {
          "output_type": "stream",
          "name": "stdout",
          "text": [
            "12\n"
          ]
        }
      ]
    },
    {
      "cell_type": "code",
      "source": [
        "## 2. Create a Python function that accepts a string and returns the reverse of that string.\n",
        "def reverse_string(s):\n",
        "    return s[::-1]\n",
        "\n",
        "# Example usage\n",
        "input_string = \"Hello, World!\"\n",
        "reversed_string = reverse_string(input_string)\n",
        "print(reversed_string)"
      ],
      "metadata": {
        "colab": {
          "base_uri": "https://localhost:8080/"
        },
        "id": "XReYjfqG-8st",
        "outputId": "f77b2c4a-5c97-447a-d094-4973fe015f02"
      },
      "execution_count": 36,
      "outputs": [
        {
          "output_type": "stream",
          "name": "stdout",
          "text": [
            "!dlroW ,olleH\n"
          ]
        }
      ]
    },
    {
      "cell_type": "code",
      "source": [
        "## 3.  Implement a Python function that takes a list of integers and returns a new list containing the squares of each number.\n",
        "def square_numbers(numbers):\n",
        "    # Use list comprehension to create a new list with squares of each number\n",
        "    return [number ** 2 for number in numbers]\n",
        "\n",
        "# Example usage\n",
        "input_numbers = [1, 2, 3, 4, 5]\n",
        "squared_numbers = square_numbers(input_numbers)\n",
        "print(squared_numbers)"
      ],
      "metadata": {
        "colab": {
          "base_uri": "https://localhost:8080/"
        },
        "id": "I5EUnwNK_J_A",
        "outputId": "dd62847c-0849-4f10-ad6b-c4983546c983"
      },
      "execution_count": 37,
      "outputs": [
        {
          "output_type": "stream",
          "name": "stdout",
          "text": [
            "[1, 4, 9, 16, 25]\n"
          ]
        }
      ]
    },
    {
      "cell_type": "code",
      "source": [
        "## 4. Write a Python function that checks if a given number is prime or not from 1 to 200.\n",
        "def is_prime(n):\n",
        "    if n <= 1:\n",
        "        return False\n",
        "    for i in range(2, int(n**0.5) + 1):\n",
        "        if n % i == 0:\n",
        "            return False\n",
        "    return True\n",
        "\n",
        "# Example usage\n",
        "for num in range(1, 201):\n",
        "    if is_prime(num):\n",
        "        print(num, \"is prime.\")"
      ],
      "metadata": {
        "colab": {
          "base_uri": "https://localhost:8080/"
        },
        "id": "udNSiba-_WC8",
        "outputId": "436fc8c2-cfa6-49ed-ff03-47be35b00281"
      },
      "execution_count": 38,
      "outputs": [
        {
          "output_type": "stream",
          "name": "stdout",
          "text": [
            "2 is prime.\n",
            "3 is prime.\n",
            "5 is prime.\n",
            "7 is prime.\n",
            "11 is prime.\n",
            "13 is prime.\n",
            "17 is prime.\n",
            "19 is prime.\n",
            "23 is prime.\n",
            "29 is prime.\n",
            "31 is prime.\n",
            "37 is prime.\n",
            "41 is prime.\n",
            "43 is prime.\n",
            "47 is prime.\n",
            "53 is prime.\n",
            "59 is prime.\n",
            "61 is prime.\n",
            "67 is prime.\n",
            "71 is prime.\n",
            "73 is prime.\n",
            "79 is prime.\n",
            "83 is prime.\n",
            "89 is prime.\n",
            "97 is prime.\n",
            "101 is prime.\n",
            "103 is prime.\n",
            "107 is prime.\n",
            "109 is prime.\n",
            "113 is prime.\n",
            "127 is prime.\n",
            "131 is prime.\n",
            "137 is prime.\n",
            "139 is prime.\n",
            "149 is prime.\n",
            "151 is prime.\n",
            "157 is prime.\n",
            "163 is prime.\n",
            "167 is prime.\n",
            "173 is prime.\n",
            "179 is prime.\n",
            "181 is prime.\n",
            "191 is prime.\n",
            "193 is prime.\n",
            "197 is prime.\n",
            "199 is prime.\n"
          ]
        }
      ]
    },
    {
      "cell_type": "code",
      "source": [
        "## 5. Create an iterator class in Python that generates the Fibonacci sequence up to a specified number of terms.\n",
        "class FibonacciIterator:\n",
        "    def __init__(self, terms):\n",
        "        self.terms = terms  # Number of terms to generate\n",
        "        self.current = 0    # Current index in the sequence\n",
        "        self.a, self.b = 0, 1  # Starting values of the Fibonacci sequence\n",
        "\n",
        "    def __iter__(self):\n",
        "        return self  # The iterator object itself\n",
        "\n",
        "    def __next__(self):\n",
        "        if self.current < self.terms:\n",
        "            # Generate the next Fibonacci number\n",
        "            fib_number = self.a\n",
        "            self.a, self.b = self.b, self.a + self.b  # Update to the next Fibonacci numbers\n",
        "            self.current += 1  # Move to the next index\n",
        "            return fib_number\n",
        "        else:\n",
        "            raise StopIteration  # Stop iteration when the specified number of terms is reached\n",
        "\n",
        "# Example usage\n",
        "fibonacci_sequence = FibonacciIterator(10)  # Create an iterator for the first 10 Fibonacci numbers\n",
        "\n",
        "for number in fibonacci_sequence:\n",
        "    print(number)"
      ],
      "metadata": {
        "colab": {
          "base_uri": "https://localhost:8080/"
        },
        "id": "7cV1T6gQ_qm2",
        "outputId": "eef07840-01bd-46e7-9488-73570948960e"
      },
      "execution_count": 39,
      "outputs": [
        {
          "output_type": "stream",
          "name": "stdout",
          "text": [
            "0\n",
            "1\n",
            "1\n",
            "2\n",
            "3\n",
            "5\n",
            "8\n",
            "13\n",
            "21\n",
            "34\n"
          ]
        }
      ]
    },
    {
      "cell_type": "code",
      "source": [
        "## 6.  Write a generator function in Python that yields the powers of 2 up to a given exponent\n",
        "def powers_of_two(exponent):\n",
        "    for i in range(exponent + 1):\n",
        "        yield 2 ** i\n",
        "\n",
        "# Example usage\n",
        "exponent = 5\n",
        "for power in powers_of_two(exponent):\n",
        "    print(power)"
      ],
      "metadata": {
        "colab": {
          "base_uri": "https://localhost:8080/"
        },
        "id": "CfosXqCf_9Nq",
        "outputId": "c41616e7-fffc-42f8-ba43-3abc46d3cd7f"
      },
      "execution_count": 40,
      "outputs": [
        {
          "output_type": "stream",
          "name": "stdout",
          "text": [
            "1\n",
            "2\n",
            "4\n",
            "8\n",
            "16\n",
            "32\n"
          ]
        }
      ]
    },
    {
      "cell_type": "code",
      "source": [
        "## 7. Implement a generator function that reads a file line by line and yields each line as a string.\n",
        "def read_file_lines(file_path):\n",
        "    with open(file_path, 'r') as file:\n",
        "        for line in file:\n",
        "            yield line"
      ],
      "metadata": {
        "collapsed": true,
        "id": "KnnEmwGGAGsN"
      },
      "execution_count": 44,
      "outputs": []
    },
    {
      "cell_type": "code",
      "source": [
        "## 8. Use a lambda function in Python to sort a list of tuples based on the second element of each tuple.\n",
        "# Sample list of tuples\n",
        "data = [(1, 'banana'), (2, 'apple'), (3, 'cherry'), (4, 'date')]\n",
        "\n",
        "# Using sorted() to sort the list of tuples by the second element\n",
        "sorted_data = sorted(data, key=lambda x: x[1])\n",
        "\n",
        "# Print the sorted list\n",
        "print(sorted_data)"
      ],
      "metadata": {
        "colab": {
          "base_uri": "https://localhost:8080/"
        },
        "id": "Ya1OmbpBAtez",
        "outputId": "eb65da12-03ac-4b63-c972-26350d1fdf34"
      },
      "execution_count": 45,
      "outputs": [
        {
          "output_type": "stream",
          "name": "stdout",
          "text": [
            "[(2, 'apple'), (1, 'banana'), (3, 'cherry'), (4, 'date')]\n"
          ]
        }
      ]
    }
  ]
}