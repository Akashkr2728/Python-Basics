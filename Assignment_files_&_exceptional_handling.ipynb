{
  "nbformat": 4,
  "nbformat_minor": 0,
  "metadata": {
    "colab": {
      "provenance": []
    },
    "kernelspec": {
      "name": "python3",
      "display_name": "Python 3"
    },
    "language_info": {
      "name": "python"
    }
  },
  "cells": [
    {
      "cell_type": "markdown",
      "source": [
        "#Files, exceptional handling, logging and memory management Assignment\n",
        " 1.  What is the difference between interpreted and compiled languages?\n",
        "  - Interpreted Languages are:-\n",
        "    1. Code interpretation: The code is interpreted line-by-line by an interpreter at runtime.\n",
        "    2. No compilation step: The code is not compiled into machine code beforehand.\n",
        "    3. Dynamic typing: Variable data types are determined at runtime.\n",
        "    4. Flexibility: Interpreted languages often support dynamic changes to the code.\n",
        "    5. Slower execution: Interpreted languages can be slower than compiled languages.\n",
        "    Examples: C, C++,etc.\n",
        "\n",
        "  - Compiled Languages are:-\n",
        "    1. Code compilation: The code is compiled into machine code beforehand.\n",
        "    2. Compilation step: The code is translated into machine code using a compiler.\n",
        "    3. Static typing: Variable data types are determined at compile time.\n",
        "    4. Faster execution: Compiled languages are often faster than interpreted languages.\n",
        "    5. Less flexible: Compiled languages may require recompilation after code changes.\n",
        "    Examples: Python, JavaScript, etc.\n",
        "2. What is exception handling in Python?\n",
        "  - Exception handling in Python refers to the process of dealing with errors or exceptional situations that may arise during the execution of a program. Instead of the program crashing when an error occurs, exception handling allows you to manage these errors gracefully and maintain control over the program’s flow.\n",
        "  - In Python, exception handling is done using the \"try\", \"except\", \"else\", and \"finally\" blocks.\n",
        "    - try Block: The code that might raise an exception is placed in a try block.\n",
        "    - except block: The code that handles the exception is placed in an except block.\n",
        "    - else block: This block is optional and can be used to define code that should run if no exceptions were raised in the try block.\n",
        "    - finally block: This block is also optional and will execute regardless of whether an exception was raised or not. It is typically used for cleanup actions, such as closing files or releasing resources.\n",
        "\n",
        "3.  What is the purpose of the finally block in exception handling?\n",
        "  - Purpose of the finally Block:\n",
        "  - a. Guaranteed Execution: The code inside the finally block will always execute, even if an error occurs in the try block or if there is a return statement in the try or except block.\n",
        "\n",
        "  - b. Resource Cleanup: It's commonly used to release resources, like closing files, network connections, or database connections, which should happen no matter what (whether an exception occurred or not).\n",
        "\n",
        "  - c. Ensuring Proper Finalization: It helps in ensuring that certain important tasks are performed before the program ends, such as logging, releasing locks, or saving application state.\n",
        "  -  The \"finally\" block is an essential part of exception handling in Python, providing a reliable way to execute cleanup code and ensuring that certain actions are taken regardless of how the preceding code executed. This contributes to better resource management and overall robustness of the application.\n",
        "\n",
        "4. What is logging in Python?\n",
        "  - Logging in Python allows you to capture and manage messages about your program’s execution. It is more powerful and flexible than using simple print statements because it supports different log levels, configurable outputs, and better control over how messages are displayed or stored. It allows developers to track and record important events, such as errors, warnings, and informational messages, in a structured and organized way.\n",
        "\n",
        "5. What is the significance of the __del__ method in Python?\n",
        "  - The __del__ method in Python is a special method, often referred to as a \"destructor,\" that is called when an object is about to be destroyed. Its primary significance lies in managing resource cleanup before an object is removed from memory by the garbage collector.\n",
        " - Significance of the __del__ Method:-\n",
        "    - Resource Management: The primary purpose of the __del__ method is to allow an object to release resources it holds, such as file handles, network connections, or database connections. This is particularly important in cases where the automatic garbage collection may not immediately free up resources.\n",
        "    - Custom Cleanup Logic: You can implement custom cleanup logic in the __del__ method. For example, you might want to log a message, notify other parts of your program, or perform other actions when an object is being destroyed.\n",
        "    - Automatic Invocation: The __del__ method is automatically invoked by the Python garbage collector when an object’s reference count drops to zero, meaning there are no more references to the object.\n",
        "6. What is the difference between import and from ... import in Python?\n",
        "  - In Python, both import and from ... import are used to include external modules or specific components of a module into your program, but they work in slightly different ways.\n",
        "  - import Statement: The import statement is used to import an entire module, allowing you to access all the functions, classes, or variables defined in that module.\n",
        "    After importing the module, you need to refer to its components by using the module's name as a prefix.\n",
        "\n",
        "\n"
      ],
      "metadata": {
        "id": "LIzenUXwf9uy"
      }
    },
    {
      "cell_type": "code",
      "source": [
        "import math\n",
        "print(math.sqrt(16))"
      ],
      "metadata": {
        "colab": {
          "base_uri": "https://localhost:8080/"
        },
        "id": "T2UWE0vhwXba",
        "outputId": "14659c8d-a6e1-458e-e975-7947719999c9"
      },
      "execution_count": null,
      "outputs": [
        {
          "output_type": "stream",
          "name": "stdout",
          "text": [
            "4.0\n"
          ]
        }
      ]
    },
    {
      "cell_type": "markdown",
      "source": [
        "  -  from ... import Statement:- The from ... import statement allows you to  import specific components (like functions, classes, or variables) directly from a module. This means you don't need to use the module's name as a prefix.\n",
        "  - You can import one or more specific items from a module, or even import all of them (though this is generally discouraged to avoid name conflicts).\n",
        "  - Key differences:\n",
        "    - 1. Importing entire module vs. specific components: import imports the entire module, while from ... import imports only specific components.\n",
        "    - 2. Namespace: When using import, the imported module's namespace is preserved. With from ... import, the imported components are added to the current namespace.\n",
        "    - 3. Accessing imported components: With import, you need to use the module name to access its components (e.g., math.pi). With from ... import, you can access the imported components directly (e.g., pi)."
      ],
      "metadata": {
        "id": "GxTh6sDXwpB_"
      }
    },
    {
      "cell_type": "code",
      "source": [
        "from math import sqrt\n",
        "print(sqrt(16))"
      ],
      "metadata": {
        "colab": {
          "base_uri": "https://localhost:8080/"
        },
        "id": "9Y_V5UV-wibQ",
        "outputId": "1aefbec1-0d0c-4d76-ce3f-098fac360c16"
      },
      "execution_count": null,
      "outputs": [
        {
          "output_type": "stream",
          "name": "stdout",
          "text": [
            "4.0\n"
          ]
        }
      ]
    },
    {
      "cell_type": "markdown",
      "source": [
        "\n",
        "\n",
        "7.  How can you handle multiple exceptions in Python?\n",
        "  - Using Multiple except Blocks: You can use multiple except blocks to handle different types of exceptions separately. Each block will catch a specific type of error.\n",
        "  - Handling Multiple Exceptions in a Single except Block: You can catch multiple exceptions in a single except block by specifying them as a tuple. This is useful when you want to handle multiple errors in the same way.\n",
        "  - Using else Block: The else block runs if no exception occurs in the try block. This allows you to separate the logic for handling exceptions and the logic for when no error happens.\n",
        "  - Using finally Block: The finally block runs no matter what, whether an exception occurs or not. It is useful for cleanup tasks like closing files or releasing resources.\n",
        "  - Multiple except blocks: Handle different exceptions separately.\n",
        "  - Catching multiple exceptions in one block: Use a tuple to catch multiple exceptions in a single block.\n",
        "  - else block: Executes if no exception occurs, useful for code that runs only when no error is raised.\n",
        "  - finally block: Executes always, useful for cleanup actions like closing files or releasing resources.\n",
        "\n",
        "8. What is the purpose of the with statement when handling files in Python?\n",
        "  - The with statement in Python is used to simplify the process of working with resources like files, ensuring that they are properly managed and cleaned up after use. It is commonly used when handling files to guarantee that the file is closed automatically, even if an error occurs while reading or writing to the file.\n",
        "  - Few purposes are:-\n",
        "    - Automatic file closure: The with statement ensures that the file is properly closed after it is no longer needed, regardless of whether an exception is thrown or not.\n",
        "    - Exception handling: If an exception occurs within the with block, the file will still be closed, preventing resource leaks.\n",
        "    - Improved readability: The with statement makes the code more readable by clearly defining the scope of the file operation.\n",
        "    - Reduced boilerplate code: The with statement eliminates the need for explicit try-finally blocks or manual file closure.\n",
        "    \n",
        "9.\n",
        "  - Multithreading: Generally more lightweight than multiprocessing because threads share the same memory and resources.\n",
        "    Context switching between threads is faster than between processes.\n",
        "    However, due to the Global Interpreter Lock (GIL) in CPython, multithreading may not provide significant performance improvements for CPU-bound tasks.\n",
        "  - Multiprocessing:It can take full advantage of multiple CPU cores, making it suitable for CPU-bound tasks.\n",
        "    The overhead of creating and managing processes is higher than that of threads, but it can lead to better performance for tasks that require heavy computation.\n",
        "  - Key differences\n",
        "    - 1. Memory sharing: Multithreading shares memory, while multiprocessing uses separate memory spaces.\n",
        "    - 2. Concurrency: Multithreading achieves concurrency through thread scheduling, while multiprocessing achieves concurrency through process scheduling.\n",
        "    - 3. GIL limitations: Multithreading is limited by the GIL, while multiprocessing avoids these limitations.\n",
        "    - 4. Communication overhead: Multithreading has lower communication overhead, while multiprocessing has higher overhead\n",
        "\n",
        "10. What are the advantages of using logging in a program?\n",
        "  - Advantages of Logging :-\n",
        "    - 1.Debugging: Logging helps identify and diagnose issues by providing detailed information about program execution.\n",
        "    - 2.Error tracking: Logging allows developers to track and record errors, making it easier to debug and fix issues.\n",
        "    - 3.Auditing: Logging provides a record of important events, such as user actions or system changes.\n",
        "    - 4.Performance monitoring: Logging can help identify performance bottlenecks and optimize system performance.\n",
        "    - 5.Security monitoring: Logging can help detect and respond to security threats by monitoring system activity.\n",
        "    - 6.Compliance: Logging can help organizations meet regulatory requirements by providing a record of system activity.\n",
        "    - 7.Improved customer support: Logging can provide valuable information to customer support teams, helping them diagnose and resolve issues more efficiently.\n",
        "    - 8.Reduced downtime: Logging can help identify potential issues before they cause downtime, reducing the impact of outages.\n",
        "    - 9.Better decision-making: Logging can provide valuable insights into system usage and behavior, informing business decisions and strategy.\n",
        "    - 10.Enhanced accountability: Logging can provide a record of system activity, helping to establish accountability and responsibility for system actions.\n",
        "\n",
        "11. What is memory management in Python?\n",
        "  - Memory management in Python refers to the process of managing the memory used by Python programs. Python uses a private heap to manage memory, which is a pool of memory set aside for Python's use.\n",
        "\n",
        "  - Key Features of Python's Memory Management\n",
        "    - 1.Automatic memory management: Python's memory manager automatically allocates and deallocates memory for objects.\n",
        "    - 2.Reference counting: Python uses a reference counting algorithm to manage memory. When an object's reference count reaches zero, the object is deallocated.\n",
        "    - 3.Garbage collection: Python's garbage collector periodically scans for objects that are no longer referenced and deallocates their memory.\n",
        "    - 4.Private heap: Python's memory manager uses a private heap to manage memory, which is separate from the operating system's heap.\n",
        "    - 5.Handling Memory Fragmentation: Memory fragmentation occurs when free memory is divided into small, non-contiguous blocks, making it difficult to allocate larger blocks. Python employs strategies to mitigate fragmentation, such as compacting memory and merging adjacent free blocks\n",
        "    - 6.Optimizing Memory Usage: Developers can optimize memory usage in Python by using generators and iterators, which allow for on-the-fly data generation without storing entire datasets in memory. Additionally, using efficient data structures from modules like collections can help reduce memory footprints\n",
        "    - 7.Memory Pools: Python uses memory pools for efficient allocation of small blocks of memory. This technique reduces the overhead associated with frequent allocation and deallocation by reusing memory blocks from a pool instead of requesting new blocks from the operating system each time\n",
        "\n",
        "12. What are the basic steps involved in exception handling in Python?\n",
        "  - Basic Steps in Exception Handling:-\n",
        "    - Step 1: Try Block\n",
        "    The code that might raise an exception is placed in a try block.\n",
        "\n",
        "    - Step 2: Except Block\n",
        "    The code that handles the exception is placed in an except block. The except block specifies the type of exception it can handle.\n",
        "\n",
        "    - Step 3: Raise Statement (Optional)\n",
        "    If you want to throw an exception, you can use the raise statement.\n",
        "\n",
        "    - Step 4: Exception Object (Optional)\n",
        "    The exception object contains information about the error, such as the error message and the location where the error occurred.\n",
        "\n",
        "    - Step 5: Finally Block (Optional)\n",
        "    The finally block is executed regardless of whether an exception was thrown or caught. It's used for cleanup code, such as closing files or releasing resources.\n",
        "    "
      ],
      "metadata": {
        "id": "00oMaEmxw9gY"
      }
    },
    {
      "cell_type": "code",
      "source": [
        "##Example\n",
        "try:\n",
        "    # Code that might raise an exception\n",
        "    x = 5 / 0\n",
        "except ZeroDivisionError:\n",
        "    # Handle the exception\n",
        "    print(\"Error: Division by zero is not allowed.\")\n",
        "finally:\n",
        "    # Cleanup code\n",
        "    print(\"Finally block executed.\")"
      ],
      "metadata": {
        "colab": {
          "base_uri": "https://localhost:8080/"
        },
        "id": "QqhcWyDZ5Vka",
        "outputId": "8bae3e09-8929-4e3f-eb07-85ed97172e97"
      },
      "execution_count": null,
      "outputs": [
        {
          "output_type": "stream",
          "name": "stdout",
          "text": [
            "Error: Division by zero is not allowed.\n",
            "Finally block executed.\n"
          ]
        }
      ]
    },
    {
      "cell_type": "markdown",
      "source": [
        "13. Why is memory management important in Python?\n",
        "  - Memory management is important in Python for several reasons:\n",
        "      - Prevents Memory Leaks: Memory leaks occur when memory is allocated but not released, causing memory usage to increase over time. Python's memory management helps prevent memory leaks.\n",
        "\n",
        "     - Optimizes Memory Usage: Python's memory manager optimizes memory usage by reusing memory blocks, reducing memory fragmentation, and minimizing memory waste.\n",
        "\n",
        "      - Improves Performance: Effective memory management improves performance by reducing the time spent on memory allocation and deallocation.\n",
        "\n",
        "      - Reduces Risk of Crashes: Memory-related issues can cause programs to crash. Python's memory management helps reduce the risk of crashes by detecting and handling memory-related errors.\n",
        "\n",
        "     - Supports Large Data Sets: Python's memory management supports large data sets by providing a mechanism for allocating and deallocating memory as needed.\n",
        "     - Garbage Collection: Python employs garbage collection to reclaim memory that is no longer in use. This process helps prevent memory leaks by automatically identifying and deallocating objects that are no longer reachable, ensuring efficient memory usage throughout the application lifecycle\n",
        "  -Memory management is vital in Python as it enhances application performance, ensures stability, prevents resource leaks, and simplifies the development process. By leveraging Python's automatic memory management features, developers can create efficient, reliable applications while minimizing the risks associated with manual memory handling.\n",
        "\n",
        "14. What is the role of try and except in exception handling?\n",
        "  - Try Block\n",
        "      - 1. Wrap code that might raise an exception: The try block contains the code that might potentially raise an exception.\n",
        "      - 2. Execute code normally: If no exception is raised, the code in the try block executes normally.\n",
        "\n",
        "  - Except Block\n",
        "      - 1. Catch and handle exceptions: The except block catches and handles exceptions raised in the try block.\n",
        "      - 2. Specify exception type: You can specify the type of exception to catch, such as ZeroDivisionError or ValueError.\n",
        "      - 3. Handle exception: The code in the except block handles the exception, such as printing an error message or taking alternative action.\n",
        "  - The \"try\" and \"except\" blocks play a crucial role in Python's exception handling mechanism by allowing developers to monitor for errors and respond appropriately without crashing the program. This structured approach enhances code reliability and maintainability by ensuring that errors are managed gracefully.\n",
        "\n",
        "15. How does Python's garbage collection system work?\n",
        "  - Python's garbage collection system is responsible for automatically managing memory allocation and deallocation, ensuring that memory is efficiently used and that objects that are no longer needed are properly cleaned up. The garbage collection system in Python primarily relies on two mechanisms: reference counting and cyclic garbage collection.\n",
        "      - Reference Counting: Python uses a reference counting algorithm to manage memory. When an object is created, its reference count is set to 1. Each time a reference to the object is created, its reference count is incremented. When a reference to the object is deleted, its reference count is decremented.\n",
        "      - Garbage Collection: When an object's reference count reaches 0, it is immediately deallocated. However, this doesn't catch all memory leaks. To address this, Python also uses a garbage collector that periodically scans for unreachable objects.\n",
        "      - Cycle Detection: The garbage collector uses a cycle detection algorithm to identify objects that are referencing each other, but are not reachable from the root objects. These cycles can cause memory leaks, and the garbage collector breaks them by deleting the objects.\n",
        "      - Generation-Based Collection: Python's garbage collector uses a generation-based approach, which divides objects into three generations based on their lifetime.\n",
        "  \n",
        "16. What is the purpose of the else block in exception handling?\n",
        "    - Purpose of the else Block:-\n",
        "      - Conditional Execution: The else block allows you to specify code that should execute only when the try block completes successfully without raising any exceptions. This helps to separate the normal flow of execution from the error handling logic.\n",
        "\n",
        "      - Improved Readability: By using an else block, you can make your code clearer and more readable. It explicitly indicates that the code in the else block is intended to run only when the try block is successful, which can help other developers (or your future self) understand the intended flow of the program.\n",
        "\n",
        "      - Avoiding Nested Code: Without the else block, you might need to place the code that should run after the try block inside the try block itself, which can lead to deeper nesting and make the code harder to follow. The else block helps keep the code flat and organized.\n",
        "    - The else block in Python's exception handling serves the following purposes:\n",
        "      - It allows for conditional execution of code that should run only if the try block is successful.\n",
        "      - It improves code readability by clearly separating normal execution from error handling.\n",
        "      - It helps avoid nested code structures, making the code cleaner and easier to follow.\n",
        "17. What are the common logging levels in Python?\n",
        "  - In Python, the logging module provides several logging levels to categorize log messages based on their severity. Here are the common logging levels in Python:\n",
        "      - 1. DEBUG: Detailed information, typically of interest only when diagnosing problems.\n",
        "      - 2. INFO: Confirmation that things are working as expected.\n",
        "      - 3. WARNING: An indication that something unexpected happened, or indicative of some problem in the near future.\n",
        "      - 4. ERROR: Due to a more serious problem, the software has not been able to perform some function.\n",
        "      - 5. CRITICAL: A serious error, indicating that the program itself may be unable to continue running.\n",
        "\n",
        "  - These logging levels are used to control the amount and type of log output, allowing you to tailor the logging to your specific needs.\n",
        "\n",
        "\n"
      ],
      "metadata": {
        "id": "W7QKSrnt5sJe"
      }
    },
    {
      "cell_type": "code",
      "source": [
        "import logging\n",
        "\n",
        "logging.basicConfig(level=logging.INFO)\n",
        "\n",
        "logging.debug('This is a debug message')\n",
        "logging.info('This is an info message')\n",
        "logging.warning('This is a warning message')\n",
        "logging.error('This is an error message')\n",
        "logging.critical('This is a critical message')"
      ],
      "metadata": {
        "colab": {
          "base_uri": "https://localhost:8080/"
        },
        "id": "gA2vMHnN9GtP",
        "outputId": "cd280f96-8a2e-4ff2-a8d7-e04d439d7059"
      },
      "execution_count": null,
      "outputs": [
        {
          "output_type": "stream",
          "name": "stderr",
          "text": [
            "WARNING:root:This is a warning message\n",
            "ERROR:root:This is an error message\n",
            "CRITICAL:root:This is a critical message\n"
          ]
        }
      ]
    },
    {
      "cell_type": "markdown",
      "source": [
        "18. What is the difference between os.fork() and multiprocessing in Python?\n",
        "  - os.fork()\n",
        "     - 1. Creates a new process: os.fork() creates a new process by duplicating the current process.\n",
        "     - 2. Shared memory: The new process shares the same memory space as the parent process.\n",
        "     - 3. Unix-only: os.fork() is only available on Unix-based systems.\n",
        "      - 4. Low-level: os.fork() is a low-level function that requires manual management of process creation, synchronization, and communication.\n",
        "\n",
        "  - Multiprocessing\n",
        "     - 1. Creates multiple processes: The multiprocessing module creates multiple processes, each with its own memory space.\n",
        "     - 2. Platform-independent: multiprocessing is available on all platforms, including Windows.\n",
        "     - 3. High-level: multiprocessing provides a high-level interface for creating and managing processes, including features like queues, pipes, and synchronization primitives.\n",
        "     - 4. Easy communication: multiprocessing provides easy-to-use communication mechanisms between processes.\n",
        "\n",
        "  - Key differences between os.fork() and multiprocessing in Python:-\n",
        "      - 1. Memory sharing: os.fork() shares memory, while multiprocessing creates separate memory spaces.\n",
        "      - 2. Platform support: os.fork() is Unix-only, while multiprocessing is platform-independent.\n",
        "     - 3. Level of abstraction: os.fork() is low-level, while multiprocessing is high-level.\n",
        "19. What is the importance of closing a file in Python?\n",
        "  - Closing files in Python is a critical practice that ensures the proper management of system resources and data integrity. Here are the key reasons highlighting the importance of closing files:\n",
        "      - 1. Resource Management: When a file is opened, it consumes system resources to maintain access for reading or writing. Properly closing files releases these resources, making them available for other processes. Failing to close files can lead to resource leaks, which may degrade system performance over time or even cause applications to crash due to exceeding the maximum number of open file handles.\n",
        "      - 2. Data Integrity and Consistency: When writing data to a file, the information is typically buffered in memory before being written to disk. If a file is not closed properly, there is a risk that this buffered data may not be flushed, resulting in partial writes or data loss. Closing a file ensures that all changes are saved and that the data is consistent and reliable.\n",
        "      - 3. Avoiding Data Corruption: Improperly closed files can lead to data corruption, especially if the program crashes or loses power before the file is closed. This can leave files in an inconsistent state, making them unusable or causing errors when accessed later.\n",
        "      - 4. Best Practices: Following best practices in file handling enhances code readability and maintainability. Explicitly closing files signals the end of file operations, making it clear to anyone reading the code that no further actions will be taken on that file.\n",
        "      - 5. Operating System Limitations: Operating systems impose limits on the number of files that can be opened simultaneously. Not closing files can quickly exhaust these limits, leading to errors when attempting to open new files.\n",
        "    -  Properly closing files in Python is essential for effective resource management, maintaining data integrity, preventing corruption, and adhering to best coding practices. Utilizing context managers (the with statement) is recommended as it automatically handles file closure, ensuring that files are closed even if an error occurs during processing. This approach simplifies code and minimizes the risk of leaving files open unintentionally.\n",
        "20. What is the difference between file.read() and file.readline() in Python?\n",
        "  - file.read()\n",
        "      - 1. Reads the entire file: file.read() reads the entire contents of the file into a string.\n",
        "      - 2. Returns a string: The method returns a string containing the entire file contents.\n",
        "      - 3. Can be memory-intensive: Reading large files using file.read() can be memory-intensive.\n",
        "\n",
        "  - file.readline()\n",
        "      - 1. Reads a single line: file.readline() reads a single line from the file into a string.\n",
        "      - 2. Returns a string: The method returns a string containing the line read from the file.\n",
        "      - 3. More memory-efficient: Reading files line-by-line using file.readline() is more memory-efficient than reading the entire file at once.\n",
        "  - Key differences:\n",
        "      - 1. Amount of data read: file.read() reads the entire file, while file.readline() reads a single line.\n",
        "      - 2. Memory usage: file.readline() is more memory-efficient than file.read().\n",
        "      - 3. Use cases: Use file.read() when you need to read small files or perform string operations on the entire file contents. Use file.readline() when working with large files or reading files line-by-line.\n",
        "21. What is the logging module in Python used for?\n",
        "  - Main Uses of the Logging Module are:-\n",
        "      - 1. Error tracking: Log errors and exceptions to diagnose and debug problems.\n",
        "      - 2. Auditing: Log important events, such as user actions or system changes.\n",
        "      - 3. Performance monitoring: Log performance metrics, such as execution time or memory usage.\n",
        "      - 4. Debugging: Log debug messages to understand the flow of a program.\n",
        "    - The logging module is an integral part of Python programming that enhances the ability to monitor applications effectively. By providing structured logging capabilities, it helps developers maintain code quality, troubleshoot issues efficiently, and gain insights into application performance during runtime.\n",
        "\n",
        "22. What is the os module in Python used for in file handling?\n",
        "  - The os module in Python is used for interacting with the operating system, including file handling operations such as creating, deleting, renaming, and navigating directories. It provides functions to work with files and directories in a platform-independent manner.\n",
        "  - File and Directory Operations\n",
        "      - 1. Creating directories: os.mkdir(), os.makedirs()\n",
        "      - 2. Removing directories: os.rmdir(), os.removedirs()\n",
        "      - 3. Changing directories: os.chdir()\n",
        "      - 4. Listing directory contents: os.listdir()\n",
        "\n",
        "  - File Operations\n",
        "      - 1. Renaming files: os.rename()\n",
        "      - 2. Removing files: os.remove()\n",
        "      - 3. Checking file existence: os.path.exists()\n",
        "      - 4. Checking file type: os.path.isfile(), os.path.isdir()\n",
        "\n",
        "  - Path Operations\n",
        "      - 1. Joining paths: os.path.join()\n",
        "      - 2. Splitting paths: os.path.split()\n",
        "      - 3. Getting absolute paths: os.path.abspath()\n",
        "      - 4. Getting relative paths: os.path.relpath()\n",
        "  - Overall, the os module is a powerful tool for file handling and system interaction in Python, making it easier to perform a wide range of file and directory operations in a platform-independent manner.\n",
        "\n",
        "23. What are the challenges associated with memory management in Python?\n",
        "  - Memory management in Python can be challenging due to the following reasons:\n",
        "      - Memory Leaks: Python's garbage collector can't detect cycles of objects referencing each other, leading to memory leaks.\n",
        "      - Reference Counting: Python uses reference counting to manage memory. However, this can lead to issues like memory fragmentation.\n",
        "      - Global Interpreter Lock (GIL): The GIL can limit parallelism and lead to performance issues in multithreaded applications.\n",
        "      - Object Finalization: Python's garbage collector may not immediately free memory when an object is no longer referenced, leading to delays in memory deallocation.\n",
        "      - Memory Fragmentation: Repeated allocation and deallocation of memory can lead to memory fragmentation, reducing performance.\n",
        "      - Large Data Structures: Handling large data structures can lead to memory issues, especially when dealing with big data.\n",
        "      - Third-Party Libraries: Some third-party libraries may not be optimized for memory usage, leading to memory-related issues.\n",
        "24. How do you raise an exception manually in Python?\n",
        "  - To raise an exception manually in Python, you use the raise statement followed by the exception type and an optional error message."
      ],
      "metadata": {
        "id": "hBJF0zPj-TRB"
      }
    },
    {
      "cell_type": "code",
      "source": [
        "#x = -5\n",
        "#if x < 0:\n",
        "#    raise ValueError(\"Sorry, please enter a number greater than or equal to 0\")\n",
        "\n",
        "my_exception = ValueError(\"This is a custom error message.\")\n",
        "raise my_exception"
      ],
      "metadata": {
        "colab": {
          "base_uri": "https://localhost:8080/",
          "height": 176
        },
        "id": "YZYavJ9YoV_7",
        "outputId": "56a1b5fa-17f7-44ac-b271-8336bd52a709",
        "collapsed": true
      },
      "execution_count": null,
      "outputs": [
        {
          "output_type": "error",
          "ename": "ValueError",
          "evalue": "This is a custom error message.",
          "traceback": [
            "\u001b[0;31m---------------------------------------------------------------------------\u001b[0m",
            "\u001b[0;31mValueError\u001b[0m                                Traceback (most recent call last)",
            "\u001b[0;32m<ipython-input-4-860babbb0d5e>\u001b[0m in \u001b[0;36m<cell line: 0>\u001b[0;34m()\u001b[0m\n\u001b[1;32m      4\u001b[0m \u001b[0;34m\u001b[0m\u001b[0m\n\u001b[1;32m      5\u001b[0m \u001b[0mmy_exception\u001b[0m \u001b[0;34m=\u001b[0m \u001b[0mValueError\u001b[0m\u001b[0;34m(\u001b[0m\u001b[0;34m\"This is a custom error message.\"\u001b[0m\u001b[0;34m)\u001b[0m\u001b[0;34m\u001b[0m\u001b[0;34m\u001b[0m\u001b[0m\n\u001b[0;32m----> 6\u001b[0;31m \u001b[0;32mraise\u001b[0m \u001b[0mmy_exception\u001b[0m\u001b[0;34m\u001b[0m\u001b[0;34m\u001b[0m\u001b[0m\n\u001b[0m",
            "\u001b[0;31mValueError\u001b[0m: This is a custom error message."
          ]
        }
      ]
    },
    {
      "cell_type": "markdown",
      "source": [
        "25.  Why is it important to use multithreading in certain applications?\n",
        "  - Multithreading is important in certain applications for several reasons:\n",
        "      - Improved Performance: It allows concurrent execution of tasks, making better use of CPU resources and leading to faster execution times, especially for parallelizable tasks like data processing.\n",
        "      - Enhanced Responsiveness: Multithreading helps maintain application responsiveness by offloading time-consuming tasks to separate threads, allowing the main thread to remain interactive and responsive to user inputs.\n",
        "      - Better Resource Utilization: It enables applications to take advantage of multicore processors, improving overall resource utilization and efficiency.\n",
        "      - Concurrency: Applications can handle multiple operations simultaneously, which is crucial for server applications that need to process multiple client requests concurrently.\n",
        "      - Scalability: Multithreading facilitates easier scaling of applications to manage increased workloads or support a larger number of users."
      ],
      "metadata": {
        "id": "pvW41RsCpVu3"
      }
    },
    {
      "cell_type": "markdown",
      "source": [
        "#Practical Questions\n"
      ],
      "metadata": {
        "id": "NyzCexlAqF2F"
      }
    },
    {
      "cell_type": "code",
      "source": [
        "## 1. How can you open a file for writing in Python and write a string to it?\n",
        "\n",
        "with open('testing.txt', 'w') as file:\n",
        "    file.write(\"This is an appended line.\")\n",
        "\n"
      ],
      "metadata": {
        "id": "ffrz7Ymlq0WR"
      },
      "execution_count": null,
      "outputs": []
    },
    {
      "cell_type": "code",
      "source": [
        "## 2. Write a Python program to read the contents of a file and print each line.\n",
        "with open('testing.txt', 'r') as file:\n",
        "    # Read and print each line in the file\n",
        "    for line in file:\n",
        "        print(line)\n"
      ],
      "metadata": {
        "collapsed": true,
        "id": "kDMCAPMrMR-W"
      },
      "execution_count": null,
      "outputs": []
    },
    {
      "cell_type": "code",
      "source": [
        "##3.  How would you handle a case where the file doesn't exist while trying to open it for reading?\n",
        "\n",
        "\n",
        "file_name = 'testing.txt'\n",
        "\n",
        "try:\n",
        "    # Attempt to open the file for reading\n",
        "    with open(file_name, 'r') as file:\n",
        "        # Read each line in the file\n",
        "        for line in file:\n",
        "            # Print the line (stripping any trailing newline characters)\n",
        "            print(line.strip())\n",
        "except FileNotFoundError:\n",
        "    print(f\"The file '{file_name}' does not exist.\")\n",
        "except Exception as e:\n",
        "    print(f\"An error occurred: {e}\")"
      ],
      "metadata": {
        "id": "HhWE2Mz7_4sp"
      },
      "execution_count": null,
      "outputs": []
    },
    {
      "cell_type": "code",
      "source": [
        "##4. Write a Python script that reads from one file and writes its content to another file.\n",
        "\n",
        "with open('one_file.txt', 'r') as source_file:\n",
        "    with open('another_file.txt', 'w') as destination_file:\n",
        "        # Read the content of the source file and write it to the destination file\n",
        "        content = source_file.read()\n",
        "        destination_file.write(content)\n",
        "\n",
        "print(\"Content has been copied successfully.\")"
      ],
      "metadata": {
        "id": "zK6IIjnOAV1Y"
      },
      "execution_count": null,
      "outputs": []
    },
    {
      "cell_type": "code",
      "source": [
        "## 5.  How would you catch and handle division by zero error in Python?\n",
        "\n",
        "try:\n",
        "    # Attempt to perform division\n",
        "    result = 10 / 0\n",
        "except ZeroDivisionError:\n",
        "    # Handle the division by zero error\n",
        "    print(\"Error: Cannot divide by zero.\")\n",
        "else:\n",
        "    # If no exception occurs, print the result\n",
        "    print(\"The result is:\", result)\n"
      ],
      "metadata": {
        "colab": {
          "base_uri": "https://localhost:8080/"
        },
        "id": "1VLhaJHPBqJF",
        "outputId": "accb0bd5-de9f-4e87-8e25-73a2b901f58c",
        "collapsed": true
      },
      "execution_count": null,
      "outputs": [
        {
          "output_type": "stream",
          "name": "stdout",
          "text": [
            "Error: Cannot divide by zero.\n"
          ]
        }
      ]
    },
    {
      "cell_type": "code",
      "source": [
        "## 6. Write a Python program that logs an error message to a log file when a division by zero exception occurs.\n",
        "\n",
        "import logging\n",
        "\n",
        "# Set up logging configuration\n",
        "logging.basicConfig(filename='error_log.txt', level=logging.ERROR, format='%(asctime)s - %(message)s')\n",
        "\n",
        "try:\n",
        "    # Attempt to perform division by zero\n",
        "    result = 10 / 0\n",
        "except ZeroDivisionError as e:\n",
        "    # Log the error message to the log file\n",
        "    logging.error(\"Division by zero error: %s\", e)\n",
        "\n",
        "print(\"An error occurred. Check the log file for details.\")"
      ],
      "metadata": {
        "colab": {
          "base_uri": "https://localhost:8080/"
        },
        "id": "yOiDkAU6DzUu",
        "outputId": "68600633-6af4-4b04-81c5-f242e0145e24",
        "collapsed": true
      },
      "execution_count": null,
      "outputs": [
        {
          "output_type": "stream",
          "name": "stderr",
          "text": [
            "ERROR:root:Division by zero error: division by zero\n"
          ]
        },
        {
          "output_type": "stream",
          "name": "stdout",
          "text": [
            "An error occurred. Check the log file for details.\n"
          ]
        }
      ]
    },
    {
      "cell_type": "code",
      "source": [
        "## 7. How do you log information at different levels (INFO, ERROR, WARNING) in Python using the logging module?\n",
        "\n",
        "import logging\n",
        "\n",
        "# Configure the logging to output to console\n",
        "logging.basicConfig(level=logging.DEBUG,  # Set the logging level\n",
        "                    format='%(asctime)s - %(levelname)s - %(message)s')\n",
        "\n",
        "# Example logging at different levels\n",
        "logging.debug(\"This is a debug message.\")\n",
        "logging.info(\"This is an info message.\")\n",
        "logging.warning(\"This is a warning message.\")\n",
        "logging.error(\"This is an error message.\")"
      ],
      "metadata": {
        "colab": {
          "base_uri": "https://localhost:8080/"
        },
        "id": "LYYoG2gTFgjF",
        "outputId": "d2d26af9-8de2-4d7f-e1d2-2ac5c7dccb4a",
        "collapsed": true
      },
      "execution_count": null,
      "outputs": [
        {
          "output_type": "stream",
          "name": "stderr",
          "text": [
            "WARNING:root:This is a warning message.\n",
            "ERROR:root:This is an error message.\n"
          ]
        }
      ]
    },
    {
      "cell_type": "code",
      "source": [
        "## 8. Write a program to handle a file opening error using exception handling.\n",
        "\n",
        "try:\n",
        "    # Attempt to open a file for reading\n",
        "    with open('non_existent_file.txt', 'r') as file:\n",
        "        content = file.read()\n",
        "        print(content)\n",
        "except FileNotFoundError:\n",
        "    # Handle the case where the file doesn't exist\n",
        "    print(\"Error: The file does not exist.\")\n",
        "except Exception as e:\n",
        "    # Handle any other general exceptions\n",
        "    print(f\"An unexpected error occurred: {e}\")"
      ],
      "metadata": {
        "id": "xS_jRdX9GF0o"
      },
      "execution_count": null,
      "outputs": []
    },
    {
      "cell_type": "code",
      "source": [
        "## 9. How can you read a file line by line and store its content in a list in Python?\n",
        "\n",
        "with open('testing.txt', 'r') as file:\n",
        "    # Read all lines and store them in a list\n",
        "    lines = file.readlines()\n",
        "\n",
        "# Strip newline characters from each line\n",
        "lines = [line.strip() for line in lines]\n",
        "\n",
        "# Print the list of lines\n",
        "print(lines)"
      ],
      "metadata": {
        "id": "HEtPbwufGeTq",
        "collapsed": true
      },
      "execution_count": null,
      "outputs": []
    },
    {
      "cell_type": "code",
      "source": [
        "## 10. How can you append data to an existing file in Python?\n",
        "\n",
        "with open('example.txt', 'a+') as file:\n",
        "    # Move the cursor to the beginning of the file\n",
        "    file.seek(0)\n",
        "    # Read the current contents of the file\n",
        "    content = file.read()\n",
        "    print('Current content:\\n', content)\n",
        "    # Append new text to the file\n",
        "    file.write('This is additional appended text.\\n')"
      ],
      "metadata": {
        "id": "r3GzSRVof-lN"
      },
      "execution_count": null,
      "outputs": []
    },
    {
      "cell_type": "code",
      "source": [
        "## 11. Write a Python program that uses a try-except block to handle an error when attempting to access a dictionary key that doesn't exist.\n",
        "\n",
        "my_dict = {'name': 'Akash', 'age': 25}\n",
        "\n",
        "try:\n",
        "    # Attempt to access a key that may not exist\n",
        "    value = my_dict['address']\n",
        "    print(f\"The value is {value}\")\n",
        "except KeyError:\n",
        "    print(\"The key 'address' does not exist in the dictionary.\")"
      ],
      "metadata": {
        "id": "MJPnst4ki24E"
      },
      "execution_count": null,
      "outputs": []
    },
    {
      "cell_type": "code",
      "source": [
        "## 12. Write a program that demonstrates using multiple except blocks to handle different types of exceptions.\n",
        "\n",
        "def divide_numbers():\n",
        "    try:\n",
        "        # Get user input for two numbers\n",
        "        num1 = float(input(\"Enter the first number: \"))\n",
        "        num2 = float(input(\"Enter the second number: \"))\n",
        "\n",
        "        # Perform division\n",
        "        result = num1 / num2\n",
        "        print(f\"The result of {num1} divided by {num2} is: {result}\")\n",
        "\n",
        "    except ValueError:\n",
        "        print(\"Error: Please enter valid numbers.\")\n",
        "\n",
        "    except ZeroDivisionError:\n",
        "        print(\"Error: Division by zero is not allowed.\")\n",
        "\n",
        "    except Exception as e:\n",
        "        print(f\"An unexpected error occurred: {e}\")\n",
        "\n",
        "# Call the function\n",
        "divide_numbers()"
      ],
      "metadata": {
        "colab": {
          "base_uri": "https://localhost:8080/"
        },
        "collapsed": true,
        "id": "iWZ29ksAkI5u",
        "outputId": "ed0e3284-457a-43cd-814b-e6bafb6f47df"
      },
      "execution_count": 12,
      "outputs": [
        {
          "output_type": "stream",
          "name": "stdout",
          "text": [
            "Enter the first number: 45\n",
            "Enter the second number: 25\n",
            "The result of 45.0 divided by 25.0 is: 1.8\n"
          ]
        }
      ]
    },
    {
      "cell_type": "code",
      "source": [
        "## 13.  How would you check if a file exists before attempting to read it in Python?\n",
        "\n",
        "import os\n",
        "\n",
        "file_path = 'example.txt'\n",
        "\n",
        "if os.path.isfile(file_path):\n",
        "    with open(file_path, 'r') as file:\n",
        "        content = file.read()\n",
        "        print(content)\n",
        "else:\n",
        "    print(f\"The file '{file_path}' does not exist or is not a file.\")"
      ],
      "metadata": {
        "id": "qHs1ZXqslPWO"
      },
      "execution_count": null,
      "outputs": []
    },
    {
      "cell_type": "code",
      "source": [
        "## 14. Write a program that uses the logging module to log both informational and error messages.\n",
        "\n",
        "import logging\n",
        "\n",
        "# Configure the logging system\n",
        "logging.basicConfig(\n",
        "    level=logging.INFO,  # Set the minimum logging level to INFO\n",
        "    format='%(asctime)s - %(levelname)s - %(message)s'  # Define the log message format\n",
        ")\n",
        "\n",
        "def divide_numbers(a, b):\n",
        "    logging.info(f\"Attempting to divide {a} by {b}\")\n",
        "    try:\n",
        "        result = a / b\n",
        "    except ZeroDivisionError:\n",
        "        logging.error(\"Division by zero error\")\n",
        "    else:\n",
        "        logging.info(f\"Division successful: {a} / {b} = {result}\")\n",
        "        return result\n",
        "\n",
        "# Example usage\n",
        "divide_numbers(10, 2)\n",
        "divide_numbers(10, 0)"
      ],
      "metadata": {
        "colab": {
          "base_uri": "https://localhost:8080/"
        },
        "collapsed": true,
        "id": "iU_7c95KxFhc",
        "outputId": "74f3f1ed-9649-4792-dfa7-dfdba6e7e9bf"
      },
      "execution_count": 30,
      "outputs": [
        {
          "output_type": "stream",
          "name": "stderr",
          "text": [
            "ERROR:root:Division by zero error\n"
          ]
        }
      ]
    },
    {
      "cell_type": "code",
      "source": [
        "## 15. Write a Python program that prints the content of a file and handles the case when the file is empty.\n",
        "\n",
        "def read_file(file_path):\n",
        "    try:\n",
        "        with open(file_path, 'r') as file:\n",
        "            content = file.read()\n",
        "            if not content:  # Check if the file is empty\n",
        "                print(\"The file is empty.\")\n",
        "            else:\n",
        "                print(\"File content:\")\n",
        "                print(content)\n",
        "    except FileNotFoundError:\n",
        "        print(f\"Error: The file '{file_path}' does not exist.\")\n",
        "    except Exception as e:\n",
        "        print(f\"An unexpected error occurred: {e}\")\n",
        "\n",
        "# Example usage\n",
        "if __name__ == \"__main__\":\n",
        "    file_path = 'example.txt'  # Specify the file path\n",
        "    read_file(file_path)"
      ],
      "metadata": {
        "id": "pE1W0Bpqyd00"
      },
      "execution_count": null,
      "outputs": []
    },
    {
      "cell_type": "code",
      "source": [
        "## 16.  Demonstrate how to use memory profiling to check the memory usage of a small program.\n",
        "##(!pip install memory-profiler)\n",
        "from memory_profiler import profile\n",
        "\n",
        "@profile\n",
        "def generate_squares(n):\n",
        "    squares = []\n",
        "    for i in range(n):\n",
        "        squares.append(i * i)\n",
        "    return squares\n",
        "\n",
        "if __name__ == \"__main__\":\n",
        "    print(\"Generating squares...\")\n",
        "    squares = generate_squares(1000000)  # Generate squares of numbers from 0 to 999999\n",
        "    print(\"Done generating squares.\")"
      ],
      "metadata": {
        "colab": {
          "base_uri": "https://localhost:8080/"
        },
        "id": "_weMB8iN0LyB",
        "outputId": "86e0be96-670a-40b6-c985-9276177e2450"
      },
      "execution_count": 47,
      "outputs": [
        {
          "output_type": "stream",
          "name": "stdout",
          "text": [
            "Generating squares...\n",
            "ERROR: Could not find file <ipython-input-47-afa9541f99e5>\n",
            "NOTE: %mprun can only be used on functions defined in physical files, and not in the IPython environment.\n",
            "Done generating squares.\n"
          ]
        }
      ]
    },
    {
      "cell_type": "code",
      "source": [
        "## 17. Write a Python program to create and write a list of numbers to a file, one number per line.\n",
        "\n",
        "def write_numbers_to_file(file_path, numbers):\n",
        "    try:\n",
        "        # Open the file in write mode\n",
        "        with open(file_path, 'w') as file:\n",
        "            for number in numbers:\n",
        "                # Write each number followed by a newline\n",
        "                file.write(f\"{number}\\n\")\n",
        "        print(f\"Numbers written to '{file_path}' successfully.\")\n",
        "    except Exception as e:\n",
        "        print(f\"An error occurred: {e}\")\n",
        "\n",
        "# List of numbers to write to the file\n",
        "numbers_list = [1, 2, 3, 4, 5, 6, 7, 8, 9, 10]\n",
        "\n",
        "# Specify the path to the output file\n",
        "file_path = 'testing.txt'\n",
        "\n",
        "# Call the function to write numbers to the file\n",
        "write_numbers_to_file(file_path, numbers_list)\n"
      ],
      "metadata": {
        "id": "OUkPuRI347xY"
      },
      "execution_count": null,
      "outputs": []
    },
    {
      "cell_type": "code",
      "source": [
        "## 18.  How would you implement a basic logging setup that logs to a file with rotation after 1MB?\n",
        "\n",
        "import logging\n",
        "from logging.handlers import RotatingFileHandler\n",
        "\n",
        "# Create a logger\n",
        "logger = logging.getLogger('MyLogger')\n",
        "logger.setLevel(logging.DEBUG)  # Set the logging level\n",
        "\n",
        "# Create a rotating file handler that logs to 'app.log' and rotates after 1MB\n",
        "handler = RotatingFileHandler('app.log', maxBytes=1 * 1024 * 1024, backupCount=5)\n",
        "formatter = logging.Formatter('%(asctime)s - %(levelname)s - %(message)s')\n",
        "handler.setFormatter(formatter)\n",
        "\n",
        "# Add the handler to the logger\n",
        "logger.addHandler(handler)\n",
        "\n",
        "# Example of logging messages\n",
        "for i in range(10000):\n",
        "    logger.debug(f\"This is debug message number {i}\")\n",
        "    logger.info(f\"This is info message number {i}\")\n",
        "    logger.warning(f\"This is warning message number {i}\")\n",
        "    logger.error(f\"This is error message number {i}\")\n",
        "    logger.critical(f\"This is critical message number {i}\")"
      ],
      "metadata": {
        "collapsed": true,
        "id": "S85SWebY43Gi"
      },
      "execution_count": null,
      "outputs": []
    },
    {
      "cell_type": "code",
      "source": [
        "## 19.  Write a program that handles both IndexError and KeyError using a try-except block.\n",
        "\n",
        "def access_data(my_list, my_dict, list_index, dict_key):\n",
        "    try:\n",
        "        # Attempt to access an element from the list\n",
        "        list_value = my_list[list_index]\n",
        "        print(f\"Value from list at index {list_index}: {list_value}\")\n",
        "\n",
        "        # Attempt to access a value from the dictionary\n",
        "        dict_value = my_dict[dict_key]\n",
        "        print(f\"Value from dictionary for key '{dict_key}': {dict_value}\")\n",
        "\n",
        "    except IndexError:\n",
        "        print(f\"Error: Index {list_index} is out of range for the list.\")\n",
        "\n",
        "    except KeyError:\n",
        "        print(f\"Error: Key '{dict_key}' does not exist in the dictionary.\")\n",
        "\n",
        "    except Exception as e:\n",
        "        print(f\"An unexpected error occurred: {e}\")\n",
        "\n",
        "if __name__ == \"__main__\":\n",
        "    # Sample data\n",
        "    my_list = [10, 20, 30]\n",
        "    my_dict = {'a': 1, 'b': 2, 'c': 3}\n",
        "\n",
        "    # Test cases\n",
        "    access_data(my_list, my_dict, 2, 'b')  # Valid access\n",
        "    access_data(my_list, my_dict, 5, 'b')  # IndexError\n",
        "    access_data(my_list, my_dict, 2, 'd')  # KeyError"
      ],
      "metadata": {
        "collapsed": true,
        "id": "cFlZozQt7wLa"
      },
      "execution_count": null,
      "outputs": []
    },
    {
      "cell_type": "code",
      "source": [
        "## 20.  How would you open a file and read its contents using a context manager in Python?\n",
        "\n",
        "# Specify the path to your file\n",
        "file_path = 'example.txt'\n",
        "\n",
        "# Open the file using a context manager\n",
        "with open(file_path, 'r') as file:\n",
        "    # Read the entire content of the file\n",
        "    content = file.read()\n",
        "\n",
        "# At this point, the file is automatically closed\n",
        "print(content)"
      ],
      "metadata": {
        "id": "y9JxyUJg40Iv"
      },
      "execution_count": null,
      "outputs": []
    },
    {
      "cell_type": "code",
      "source": [
        "## 21. Write a Python program that reads a file and prints the number of occurrences of a specific word.\n",
        "\n",
        "def count_word_occurrences(file_path, target_word):\n",
        "    try:\n",
        "        with open(file_path, 'r') as file:  # Open the file in read mode\n",
        "            contents = file.read()  # Read the entire contents of the file\n",
        "            word_count = contents.lower().split().count(target_word.lower())  # Count occurrences\n",
        "            return word_count\n",
        "    except FileNotFoundError:\n",
        "        return f\"Error: The file '{file_path}' does not exist.\"\n",
        "    except Exception as e:\n",
        "        return f\"An unexpected error occurred: {e}\"\n",
        "\n",
        "if __name__ == \"__main__\":\n",
        "    # Get user input for the file name and the word to search for\n",
        "    file_path = input(\"Enter the file name (with extension): \")\n",
        "    target_word = input(\"Enter the word to count: \")\n",
        "\n",
        "    # Count occurrences of the word in the file\n",
        "    occurrences = count_word_occurrences(file_path, target_word)\n",
        "\n",
        "    # Print the result\n",
        "    if isinstance(occurrences, int):\n",
        "        print(f\"The word '{target_word}' occurs {occurrences} times in the file '{file_path}'.\")\n",
        "    else:\n",
        "        print(occurrences)  # Print the error message"
      ],
      "metadata": {
        "id": "cYYcw3WI4pTQ"
      },
      "execution_count": null,
      "outputs": []
    },
    {
      "cell_type": "code",
      "source": [
        "## 22.  How can you check if a file is empty before attempting to read its contents?\n",
        "\n",
        "import os\n",
        "\n",
        "def is_file_empty(filename):\n",
        "    return os.path.getsize(filename) == 0\n",
        "\n",
        "# Example usage:\n",
        "filename = 'example.txt'\n",
        "if is_file_empty(filename):\n",
        "    print(f\"File '{filename}' is empty.\")\n",
        "else:\n",
        "    print(f\"File '{filename}' is not empty.\")\n"
      ],
      "metadata": {
        "id": "1OPFGmkY_B7b"
      },
      "execution_count": null,
      "outputs": []
    },
    {
      "cell_type": "code",
      "source": [
        "## 23. Write a Python program that writes to a log file when an error occurs during file handling.\n",
        "\n",
        "import logging\n",
        "\n",
        "# Configure logging\n",
        "logging.basicConfig(\n",
        "    filename='file_handling_errors.log',  # Log file name\n",
        "    level=logging.ERROR,  # Log level\n",
        "    format='%(asctime)s - %(levelname)s - %(message)s'  # Log format\n",
        ")\n",
        "\n",
        "def read_file(file_path):\n",
        "    try:\n",
        "        with open(file_path, 'r') as file:\n",
        "            contents = file.read()\n",
        "            print(contents)  # Print the contents of the file\n",
        "    except FileNotFoundError:\n",
        "        logging.error(f\"FileNotFoundError: The file '{file_path}' does not exist.\")\n",
        "        print(f\"Error: The file '{file_path}' does not exist.\")\n",
        "    except PermissionError:\n",
        "        logging.error(f\"PermissionError: Permission denied for file '{file_path}'.\")\n",
        "        print(f\"Error: Permission denied for file '{file_path}'.\")\n",
        "    except Exception as e:\n",
        "        logging.error(f\"An unexpected error occurred: {e}\")\n",
        "        print(f\"An unexpected error occurred: {e}\")\n",
        "\n",
        "if __name__ == \"__main__\":\n",
        "    file_path = input(\"Enter the file name (with extension): \")  # Get user input for the file name\n",
        "    read_file(file_path)  # Attempt to read the file"
      ],
      "metadata": {
        "id": "9kav6iMR_ccq"
      },
      "execution_count": null,
      "outputs": []
    }
  ]
}
